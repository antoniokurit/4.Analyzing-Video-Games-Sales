{
 "cells": [
  {
   "cell_type": "markdown",
   "metadata": {},
   "source": [
    "# Analyzing Video Games Sales\n",
    "\n",
    "Our client online store Ice sells video games all over the world. We will identify patterns that determine whether a game succeeds or not in order to spot potential big winners and plan advertising campaigns. Our data contains user and expert reviews, genres, platforms (e.g. Xbox or PlayStation), and historical data on game sales all of which are available from open sources.\n",
    "\n",
    "We'll determine which segment of our data will be used for our 2017 prognosis. We'll analyze leading platforms, the effect reviews have on sales, and which genres are most popular. Our data will also suggest the typical customer by region.\n",
    "\n",
    "Additionally, we'll form two experiments that will suggest to us the following:  \n",
    "- Are average user ratings of the Xbox One and PC platforms the same\n",
    "- Are average user ratings of the Xbox One and PC platforms are the same"
   ]
  },
  {
   "cell_type": "markdown",
   "metadata": {},
   "source": [
    "# Table of Contents\n",
    "[1 Open the data file and have a look at the general information](#1heading)  \n",
    "&emsp;[1.1 Conclusion](#1.1heading)  \n",
    "[2 Data preprocessing](#2heading)  \n",
    "&emsp;[2.1 Processing missing values](#2.1heading)  \n",
    "&emsp;[2.2 Data type replacement](#2.2heading)  \n",
    "&emsp;[2.3 Processing duplicates](#2.3heading)  \n",
    "&emsp;[2.4 Adding total sales](#2.4heading)  \n",
    "[3 Analyzing the data](#3heading)  \n",
    "&emsp;[3.1 How many games were released over the years](#3.1heading)   \n",
    "&emsp;[3.2 Sales varying from platform to platform over the years](#3.2heading)  \n",
    "&emsp;[3.3 Data for 2017 prognosis](#3.3heading)  \n",
    "&emsp;[3.4 Platforms leading in sales (2014 - 2016)](#3.4heading)  \n",
    "&emsp;[3.5 Global sales of all games, broken down by platform (2014 - 2016)](#3.5heading)  \n",
    "&emsp;[3.6 Do user and professional reviews affect sales for one popular platform? (2014 - 2016)](#3.6heading)  \n",
    "&emsp;[3.7 Comparing the sales of the same game on other platforms (2014 - 2016)](#3.7heading)  \n",
    "&emsp;[3.8 Profitability of games based on genre (2014 - 2016)](#3.8heading)  \n",
    "[4 Creating a user profile for each region](#4heading)  \n",
    "&emsp;[4.1 Top Five Platforms by Region](#4.1heading)  \n",
    "&emsp;[4.2 Top Five Genres by Region](#4.2heading)  \n",
    "&emsp;[4.3 ESRB Ratings and Sales by Region](#4.3heading)  \n",
    "[5 Testing Hypothesis](#5heading)  \n",
    "&emsp;[5.1 Average user ratings of the Xbox One and PC platforms are the same](#5.1heading)  \n",
    "&emsp;[5.2 Average user ratings for the Action and Sports genres are the same](#5.2heading)  \n",
    "[6 General Conclusion](#6heading)"
   ]
  },
  {
   "cell_type": "markdown",
   "metadata": {},
   "source": [
    "<a id='1heading'></a>"
   ]
  },
  {
   "cell_type": "markdown",
   "metadata": {},
   "source": [
    "## Open the data files and have a look at the general information"
   ]
  },
  {
   "cell_type": "code",
   "execution_count": 1,
   "metadata": {},
   "outputs": [],
   "source": [
    "#Importing libraries\n",
    "import pandas as pd\n",
    "import numpy as np\n",
    "import matplotlib.pyplot as plt\n",
    "import math as mt\n",
    "from math import factorial\n",
    "from scipy import stats as st\n",
    "from functools import reduce"
   ]
  },
  {
   "cell_type": "code",
   "execution_count": 2,
   "metadata": {},
   "outputs": [],
   "source": [
    "#Read file\n",
    "games_data = pd.read_csv('/Users/AntonioKuri/Desktop/Training/Practicum/Projects/Project 4/games.csv')"
   ]
  },
  {
   "cell_type": "code",
   "execution_count": 3,
   "metadata": {},
   "outputs": [
    {
     "name": "stdout",
     "output_type": "stream",
     "text": [
      "                       Name Platform  Year_of_Release         Genre  NA_sales  \\\n",
      "0                Wii Sports      Wii           2006.0        Sports     41.36   \n",
      "1         Super Mario Bros.      NES           1985.0      Platform     29.08   \n",
      "2            Mario Kart Wii      Wii           2008.0        Racing     15.68   \n",
      "3         Wii Sports Resort      Wii           2009.0        Sports     15.61   \n",
      "4  Pokemon Red/Pokemon Blue       GB           1996.0  Role-Playing     11.27   \n",
      "\n",
      "   EU_sales  JP_sales  Other_sales  Critic_Score User_Score Rating  \n",
      "0     28.96      3.77         8.45          76.0          8      E  \n",
      "1      3.58      6.81         0.77           NaN        NaN    NaN  \n",
      "2     12.76      3.79         3.29          82.0        8.3      E  \n",
      "3     10.93      3.28         2.95          80.0          8      E  \n",
      "4      8.89     10.22         1.00           NaN        NaN    NaN  \n",
      "<class 'pandas.core.frame.DataFrame'>\n",
      "RangeIndex: 16715 entries, 0 to 16714\n",
      "Data columns (total 11 columns):\n",
      " #   Column           Non-Null Count  Dtype  \n",
      "---  ------           --------------  -----  \n",
      " 0   Name             16713 non-null  object \n",
      " 1   Platform         16715 non-null  object \n",
      " 2   Year_of_Release  16446 non-null  float64\n",
      " 3   Genre            16713 non-null  object \n",
      " 4   NA_sales         16715 non-null  float64\n",
      " 5   EU_sales         16715 non-null  float64\n",
      " 6   JP_sales         16715 non-null  float64\n",
      " 7   Other_sales      16715 non-null  float64\n",
      " 8   Critic_Score     8137 non-null   float64\n",
      " 9   User_Score       10014 non-null  object \n",
      " 10  Rating           9949 non-null   object \n",
      "dtypes: float64(6), object(5)\n",
      "memory usage: 1.4+ MB\n",
      "None\n",
      "       Year_of_Release      NA_sales      EU_sales      JP_sales  \\\n",
      "count     16446.000000  16715.000000  16715.000000  16715.000000   \n",
      "mean       2006.484616      0.263377      0.145060      0.077617   \n",
      "std           5.877050      0.813604      0.503339      0.308853   \n",
      "min        1980.000000      0.000000      0.000000      0.000000   \n",
      "25%        2003.000000      0.000000      0.000000      0.000000   \n",
      "50%        2007.000000      0.080000      0.020000      0.000000   \n",
      "75%        2010.000000      0.240000      0.110000      0.040000   \n",
      "max        2016.000000     41.360000     28.960000     10.220000   \n",
      "\n",
      "        Other_sales  Critic_Score  \n",
      "count  16715.000000   8137.000000  \n",
      "mean       0.047342     68.967679  \n",
      "std        0.186731     13.938165  \n",
      "min        0.000000     13.000000  \n",
      "25%        0.000000     60.000000  \n",
      "50%        0.010000     71.000000  \n",
      "75%        0.030000     79.000000  \n",
      "max       10.570000     98.000000  \n"
     ]
    }
   ],
   "source": [
    "#Check file's first five rows and the data info\n",
    "print(games_data.head())\n",
    "print(games_data.info())\n",
    "print(games_data.describe())"
   ]
  },
  {
   "cell_type": "markdown",
   "metadata": {},
   "source": [
    "<a id='1.1heading'></a>"
   ]
  },
  {
   "cell_type": "markdown",
   "metadata": {},
   "source": [
    "### Conclusion"
   ]
  },
  {
   "cell_type": "markdown",
   "metadata": {},
   "source": [
    "Dataframe has a total of 16715 rows.\n",
    "\n",
    "Columns are Name, Platform, Year_of_Release, Genre, NA_sales, EU_sales, JP_sales, Other_sales, Critic_Score, User_Score\tand Rating.\n",
    "\n",
    "Nulls are present in Name, Year_of_Release, Genre, Critic_Score, User_Score and Rating.\n",
    "\n",
    "All sales columns have the 1st quartie equal to 0 in sales. Will explore this subject further in preprocessing stage.\n",
    "\n",
    "Note: Some data types are not appropriate for the columns - will change in preprocessing stage."
   ]
  },
  {
   "cell_type": "markdown",
   "metadata": {},
   "source": [
    "<a id='2heading'></a>"
   ]
  },
  {
   "cell_type": "markdown",
   "metadata": {},
   "source": [
    "## Data preprocessing"
   ]
  },
  {
   "cell_type": "markdown",
   "metadata": {},
   "source": [
    "<a id='2.1heading'></a>"
   ]
  },
  {
   "cell_type": "markdown",
   "metadata": {},
   "source": [
    "### Processing missing values"
   ]
  },
  {
   "cell_type": "code",
   "execution_count": 4,
   "metadata": {},
   "outputs": [
    {
     "name": "stdout",
     "output_type": "stream",
     "text": [
      "Total Rows: 16715\n"
     ]
    },
    {
     "data": {
      "text/plain": [
       "Name                  2\n",
       "Platform              0\n",
       "Year_of_Release     269\n",
       "Genre                 2\n",
       "NA_sales              0\n",
       "EU_sales              0\n",
       "JP_sales              0\n",
       "Other_sales           0\n",
       "Critic_Score       8578\n",
       "User_Score         6701\n",
       "Rating             6766\n",
       "dtype: int64"
      ]
     },
     "execution_count": 4,
     "metadata": {},
     "output_type": "execute_result"
    }
   ],
   "source": [
    "#count of nulls\n",
    "print('Total Rows:', len(games_data))\n",
    "games_data.isnull().sum()"
   ]
  },
  {
   "cell_type": "code",
   "execution_count": 5,
   "metadata": {},
   "outputs": [
    {
     "data": {
      "text/plain": [
       "Name               0.000120\n",
       "Platform           0.000000\n",
       "Year_of_Release    0.016093\n",
       "Genre              0.000120\n",
       "NA_sales           0.000000\n",
       "EU_sales           0.000000\n",
       "JP_sales           0.000000\n",
       "Other_sales        0.000000\n",
       "Critic_Score       0.513192\n",
       "User_Score         0.400897\n",
       "Rating             0.404786\n",
       "dtype: float64"
      ]
     },
     "execution_count": 5,
     "metadata": {},
     "output_type": "execute_result"
    }
   ],
   "source": [
    "#proportion of missing values\n",
    "proportion_missing = games_data.isnull().sum()/len(games_data)\n",
    "proportion_missing"
   ]
  },
  {
   "cell_type": "code",
   "execution_count": 6,
   "metadata": {},
   "outputs": [
    {
     "data": {
      "text/html": [
       "<div>\n",
       "<style scoped>\n",
       "    .dataframe tbody tr th:only-of-type {\n",
       "        vertical-align: middle;\n",
       "    }\n",
       "\n",
       "    .dataframe tbody tr th {\n",
       "        vertical-align: top;\n",
       "    }\n",
       "\n",
       "    .dataframe thead th {\n",
       "        text-align: right;\n",
       "    }\n",
       "</style>\n",
       "<table border=\"1\" class=\"dataframe\">\n",
       "  <thead>\n",
       "    <tr style=\"text-align: right;\">\n",
       "      <th></th>\n",
       "      <th>index</th>\n",
       "      <th>0</th>\n",
       "    </tr>\n",
       "  </thead>\n",
       "  <tbody>\n",
       "    <tr>\n",
       "      <th>0</th>\n",
       "      <td>Name</td>\n",
       "      <td>0.000120</td>\n",
       "    </tr>\n",
       "    <tr>\n",
       "      <th>1</th>\n",
       "      <td>Platform</td>\n",
       "      <td>0.000000</td>\n",
       "    </tr>\n",
       "    <tr>\n",
       "      <th>2</th>\n",
       "      <td>Year_of_Release</td>\n",
       "      <td>0.016093</td>\n",
       "    </tr>\n",
       "    <tr>\n",
       "      <th>3</th>\n",
       "      <td>Genre</td>\n",
       "      <td>0.000120</td>\n",
       "    </tr>\n",
       "    <tr>\n",
       "      <th>4</th>\n",
       "      <td>NA_sales</td>\n",
       "      <td>0.000000</td>\n",
       "    </tr>\n",
       "    <tr>\n",
       "      <th>5</th>\n",
       "      <td>EU_sales</td>\n",
       "      <td>0.000000</td>\n",
       "    </tr>\n",
       "    <tr>\n",
       "      <th>6</th>\n",
       "      <td>JP_sales</td>\n",
       "      <td>0.000000</td>\n",
       "    </tr>\n",
       "    <tr>\n",
       "      <th>7</th>\n",
       "      <td>Other_sales</td>\n",
       "      <td>0.000000</td>\n",
       "    </tr>\n",
       "    <tr>\n",
       "      <th>8</th>\n",
       "      <td>Critic_Score</td>\n",
       "      <td>0.513192</td>\n",
       "    </tr>\n",
       "    <tr>\n",
       "      <th>9</th>\n",
       "      <td>User_Score</td>\n",
       "      <td>0.400897</td>\n",
       "    </tr>\n",
       "    <tr>\n",
       "      <th>10</th>\n",
       "      <td>Rating</td>\n",
       "      <td>0.404786</td>\n",
       "    </tr>\n",
       "  </tbody>\n",
       "</table>\n",
       "</div>"
      ],
      "text/plain": [
       "              index         0\n",
       "0              Name  0.000120\n",
       "1          Platform  0.000000\n",
       "2   Year_of_Release  0.016093\n",
       "3             Genre  0.000120\n",
       "4          NA_sales  0.000000\n",
       "5          EU_sales  0.000000\n",
       "6          JP_sales  0.000000\n",
       "7       Other_sales  0.000000\n",
       "8      Critic_Score  0.513192\n",
       "9        User_Score  0.400897\n",
       "10           Rating  0.404786"
      ]
     },
     "execution_count": 6,
     "metadata": {},
     "output_type": "execute_result"
    }
   ],
   "source": [
    "games_data.isna().mean().reset_index()"
   ]
  },
  {
   "cell_type": "code",
   "execution_count": 7,
   "metadata": {},
   "outputs": [
    {
     "data": {
      "text/html": [
       "<div>\n",
       "<style scoped>\n",
       "    .dataframe tbody tr th:only-of-type {\n",
       "        vertical-align: middle;\n",
       "    }\n",
       "\n",
       "    .dataframe tbody tr th {\n",
       "        vertical-align: top;\n",
       "    }\n",
       "\n",
       "    .dataframe thead th {\n",
       "        text-align: right;\n",
       "    }\n",
       "</style>\n",
       "<table border=\"1\" class=\"dataframe\">\n",
       "  <thead>\n",
       "    <tr style=\"text-align: right;\">\n",
       "      <th></th>\n",
       "      <th>Name</th>\n",
       "      <th>Platform</th>\n",
       "      <th>Year_of_Release</th>\n",
       "      <th>Genre</th>\n",
       "      <th>NA_sales</th>\n",
       "      <th>EU_sales</th>\n",
       "      <th>JP_sales</th>\n",
       "      <th>Other_sales</th>\n",
       "      <th>Critic_Score</th>\n",
       "      <th>User_Score</th>\n",
       "      <th>Rating</th>\n",
       "    </tr>\n",
       "  </thead>\n",
       "  <tbody>\n",
       "    <tr>\n",
       "      <th>659</th>\n",
       "      <td>NaN</td>\n",
       "      <td>GEN</td>\n",
       "      <td>1993.0</td>\n",
       "      <td>NaN</td>\n",
       "      <td>1.78</td>\n",
       "      <td>0.53</td>\n",
       "      <td>0.00</td>\n",
       "      <td>0.08</td>\n",
       "      <td>NaN</td>\n",
       "      <td>NaN</td>\n",
       "      <td>NaN</td>\n",
       "    </tr>\n",
       "    <tr>\n",
       "      <th>14244</th>\n",
       "      <td>NaN</td>\n",
       "      <td>GEN</td>\n",
       "      <td>1993.0</td>\n",
       "      <td>NaN</td>\n",
       "      <td>0.00</td>\n",
       "      <td>0.00</td>\n",
       "      <td>0.03</td>\n",
       "      <td>0.00</td>\n",
       "      <td>NaN</td>\n",
       "      <td>NaN</td>\n",
       "      <td>NaN</td>\n",
       "    </tr>\n",
       "  </tbody>\n",
       "</table>\n",
       "</div>"
      ],
      "text/plain": [
       "      Name Platform  Year_of_Release Genre  NA_sales  EU_sales  JP_sales  \\\n",
       "659    NaN      GEN           1993.0   NaN      1.78      0.53      0.00   \n",
       "14244  NaN      GEN           1993.0   NaN      0.00      0.00      0.03   \n",
       "\n",
       "       Other_sales  Critic_Score User_Score Rating  \n",
       "659           0.08           NaN        NaN    NaN  \n",
       "14244         0.00           NaN        NaN    NaN  "
      ]
     },
     "execution_count": 7,
     "metadata": {},
     "output_type": "execute_result"
    }
   ],
   "source": [
    "#Show rows where Name is null\n",
    "games_data[games_data['Name'].isnull()]"
   ]
  },
  {
   "cell_type": "markdown",
   "metadata": {},
   "source": [
    "Name and Genre have two nulls in the same rows. Will delete those both rows as there is no way of knowing which games they are."
   ]
  },
  {
   "cell_type": "code",
   "execution_count": 8,
   "metadata": {},
   "outputs": [
    {
     "name": "stdout",
     "output_type": "stream",
     "text": [
      "<class 'pandas.core.frame.DataFrame'>\n",
      "Int64Index: 16713 entries, 0 to 16714\n",
      "Data columns (total 11 columns):\n",
      " #   Column           Non-Null Count  Dtype  \n",
      "---  ------           --------------  -----  \n",
      " 0   Name             16713 non-null  object \n",
      " 1   Platform         16713 non-null  object \n",
      " 2   Year_of_Release  16444 non-null  float64\n",
      " 3   Genre            16713 non-null  object \n",
      " 4   NA_sales         16713 non-null  float64\n",
      " 5   EU_sales         16713 non-null  float64\n",
      " 6   JP_sales         16713 non-null  float64\n",
      " 7   Other_sales      16713 non-null  float64\n",
      " 8   Critic_Score     8137 non-null   float64\n",
      " 9   User_Score       10014 non-null  object \n",
      " 10  Rating           9949 non-null   object \n",
      "dtypes: float64(6), object(5)\n",
      "memory usage: 1.5+ MB\n"
     ]
    }
   ],
   "source": [
    "#Delete Name and Genre nulls (only 0.01% of the data) and confirm deletion\n",
    "games_data.dropna(subset = ['Name'], inplace=True)\n",
    "games_data.info()"
   ]
  },
  {
   "cell_type": "code",
   "execution_count": 9,
   "metadata": {},
   "outputs": [
    {
     "name": "stdout",
     "output_type": "stream",
     "text": [
      "<class 'pandas.core.frame.DataFrame'>\n",
      "Int64Index: 16444 entries, 0 to 16714\n",
      "Data columns (total 11 columns):\n",
      " #   Column           Non-Null Count  Dtype  \n",
      "---  ------           --------------  -----  \n",
      " 0   Name             16444 non-null  object \n",
      " 1   Platform         16444 non-null  object \n",
      " 2   Year_of_Release  16444 non-null  float64\n",
      " 3   Genre            16444 non-null  object \n",
      " 4   NA_sales         16444 non-null  float64\n",
      " 5   EU_sales         16444 non-null  float64\n",
      " 6   JP_sales         16444 non-null  float64\n",
      " 7   Other_sales      16444 non-null  float64\n",
      " 8   Critic_Score     7983 non-null   float64\n",
      " 9   User_Score       9839 non-null   object \n",
      " 10  Rating           9768 non-null   object \n",
      "dtypes: float64(6), object(5)\n",
      "memory usage: 1.5+ MB\n"
     ]
    }
   ],
   "source": [
    "#Delete games without Year_of_Release - only 1% of data. Should not affect findings significantly\n",
    "games_data.dropna(subset = ['Year_of_Release'], inplace=True)\n",
    "games_data.info()"
   ]
  },
  {
   "cell_type": "code",
   "execution_count": 10,
   "metadata": {},
   "outputs": [
    {
     "data": {
      "text/plain": [
       "0"
      ]
     },
     "execution_count": 10,
     "metadata": {},
     "output_type": "execute_result"
    }
   ],
   "source": [
    "games_data['Year_of_Release'].isnull().sum()"
   ]
  },
  {
   "cell_type": "code",
   "execution_count": 11,
   "metadata": {},
   "outputs": [
    {
     "data": {
      "text/html": [
       "<div>\n",
       "<style scoped>\n",
       "    .dataframe tbody tr th:only-of-type {\n",
       "        vertical-align: middle;\n",
       "    }\n",
       "\n",
       "    .dataframe tbody tr th {\n",
       "        vertical-align: top;\n",
       "    }\n",
       "\n",
       "    .dataframe thead th {\n",
       "        text-align: right;\n",
       "    }\n",
       "</style>\n",
       "<table border=\"1\" class=\"dataframe\">\n",
       "  <thead>\n",
       "    <tr style=\"text-align: right;\">\n",
       "      <th></th>\n",
       "      <th>Name</th>\n",
       "      <th>Platform</th>\n",
       "      <th>Year_of_Release</th>\n",
       "      <th>Genre</th>\n",
       "      <th>NA_sales</th>\n",
       "      <th>EU_sales</th>\n",
       "      <th>JP_sales</th>\n",
       "      <th>Other_sales</th>\n",
       "      <th>Critic_Score</th>\n",
       "      <th>User_Score</th>\n",
       "      <th>Rating</th>\n",
       "    </tr>\n",
       "  </thead>\n",
       "  <tbody>\n",
       "    <tr>\n",
       "      <th>1</th>\n",
       "      <td>Super Mario Bros.</td>\n",
       "      <td>NES</td>\n",
       "      <td>1985.0</td>\n",
       "      <td>Platform</td>\n",
       "      <td>29.08</td>\n",
       "      <td>3.58</td>\n",
       "      <td>6.81</td>\n",
       "      <td>0.77</td>\n",
       "      <td>NaN</td>\n",
       "      <td>NaN</td>\n",
       "      <td>NaN</td>\n",
       "    </tr>\n",
       "    <tr>\n",
       "      <th>4</th>\n",
       "      <td>Pokemon Red/Pokemon Blue</td>\n",
       "      <td>GB</td>\n",
       "      <td>1996.0</td>\n",
       "      <td>Role-Playing</td>\n",
       "      <td>11.27</td>\n",
       "      <td>8.89</td>\n",
       "      <td>10.22</td>\n",
       "      <td>1.00</td>\n",
       "      <td>NaN</td>\n",
       "      <td>NaN</td>\n",
       "      <td>NaN</td>\n",
       "    </tr>\n",
       "    <tr>\n",
       "      <th>5</th>\n",
       "      <td>Tetris</td>\n",
       "      <td>GB</td>\n",
       "      <td>1989.0</td>\n",
       "      <td>Puzzle</td>\n",
       "      <td>23.20</td>\n",
       "      <td>2.26</td>\n",
       "      <td>4.22</td>\n",
       "      <td>0.58</td>\n",
       "      <td>NaN</td>\n",
       "      <td>NaN</td>\n",
       "      <td>NaN</td>\n",
       "    </tr>\n",
       "    <tr>\n",
       "      <th>9</th>\n",
       "      <td>Duck Hunt</td>\n",
       "      <td>NES</td>\n",
       "      <td>1984.0</td>\n",
       "      <td>Shooter</td>\n",
       "      <td>26.93</td>\n",
       "      <td>0.63</td>\n",
       "      <td>0.28</td>\n",
       "      <td>0.47</td>\n",
       "      <td>NaN</td>\n",
       "      <td>NaN</td>\n",
       "      <td>NaN</td>\n",
       "    </tr>\n",
       "    <tr>\n",
       "      <th>10</th>\n",
       "      <td>Nintendogs</td>\n",
       "      <td>DS</td>\n",
       "      <td>2005.0</td>\n",
       "      <td>Simulation</td>\n",
       "      <td>9.05</td>\n",
       "      <td>10.95</td>\n",
       "      <td>1.93</td>\n",
       "      <td>2.74</td>\n",
       "      <td>NaN</td>\n",
       "      <td>NaN</td>\n",
       "      <td>NaN</td>\n",
       "    </tr>\n",
       "    <tr>\n",
       "      <th>...</th>\n",
       "      <td>...</td>\n",
       "      <td>...</td>\n",
       "      <td>...</td>\n",
       "      <td>...</td>\n",
       "      <td>...</td>\n",
       "      <td>...</td>\n",
       "      <td>...</td>\n",
       "      <td>...</td>\n",
       "      <td>...</td>\n",
       "      <td>...</td>\n",
       "      <td>...</td>\n",
       "    </tr>\n",
       "    <tr>\n",
       "      <th>16710</th>\n",
       "      <td>Samurai Warriors: Sanada Maru</td>\n",
       "      <td>PS3</td>\n",
       "      <td>2016.0</td>\n",
       "      <td>Action</td>\n",
       "      <td>0.00</td>\n",
       "      <td>0.00</td>\n",
       "      <td>0.01</td>\n",
       "      <td>0.00</td>\n",
       "      <td>NaN</td>\n",
       "      <td>NaN</td>\n",
       "      <td>NaN</td>\n",
       "    </tr>\n",
       "    <tr>\n",
       "      <th>16711</th>\n",
       "      <td>LMA Manager 2007</td>\n",
       "      <td>X360</td>\n",
       "      <td>2006.0</td>\n",
       "      <td>Sports</td>\n",
       "      <td>0.00</td>\n",
       "      <td>0.01</td>\n",
       "      <td>0.00</td>\n",
       "      <td>0.00</td>\n",
       "      <td>NaN</td>\n",
       "      <td>NaN</td>\n",
       "      <td>NaN</td>\n",
       "    </tr>\n",
       "    <tr>\n",
       "      <th>16712</th>\n",
       "      <td>Haitaka no Psychedelica</td>\n",
       "      <td>PSV</td>\n",
       "      <td>2016.0</td>\n",
       "      <td>Adventure</td>\n",
       "      <td>0.00</td>\n",
       "      <td>0.00</td>\n",
       "      <td>0.01</td>\n",
       "      <td>0.00</td>\n",
       "      <td>NaN</td>\n",
       "      <td>NaN</td>\n",
       "      <td>NaN</td>\n",
       "    </tr>\n",
       "    <tr>\n",
       "      <th>16713</th>\n",
       "      <td>Spirits &amp; Spells</td>\n",
       "      <td>GBA</td>\n",
       "      <td>2003.0</td>\n",
       "      <td>Platform</td>\n",
       "      <td>0.01</td>\n",
       "      <td>0.00</td>\n",
       "      <td>0.00</td>\n",
       "      <td>0.00</td>\n",
       "      <td>NaN</td>\n",
       "      <td>NaN</td>\n",
       "      <td>NaN</td>\n",
       "    </tr>\n",
       "    <tr>\n",
       "      <th>16714</th>\n",
       "      <td>Winning Post 8 2016</td>\n",
       "      <td>PSV</td>\n",
       "      <td>2016.0</td>\n",
       "      <td>Simulation</td>\n",
       "      <td>0.00</td>\n",
       "      <td>0.00</td>\n",
       "      <td>0.01</td>\n",
       "      <td>0.00</td>\n",
       "      <td>NaN</td>\n",
       "      <td>NaN</td>\n",
       "      <td>NaN</td>\n",
       "    </tr>\n",
       "  </tbody>\n",
       "</table>\n",
       "<p>8461 rows × 11 columns</p>\n",
       "</div>"
      ],
      "text/plain": [
       "                                Name Platform  Year_of_Release         Genre  \\\n",
       "1                  Super Mario Bros.      NES           1985.0      Platform   \n",
       "4           Pokemon Red/Pokemon Blue       GB           1996.0  Role-Playing   \n",
       "5                             Tetris       GB           1989.0        Puzzle   \n",
       "9                          Duck Hunt      NES           1984.0       Shooter   \n",
       "10                        Nintendogs       DS           2005.0    Simulation   \n",
       "...                              ...      ...              ...           ...   \n",
       "16710  Samurai Warriors: Sanada Maru      PS3           2016.0        Action   \n",
       "16711               LMA Manager 2007     X360           2006.0        Sports   \n",
       "16712        Haitaka no Psychedelica      PSV           2016.0     Adventure   \n",
       "16713               Spirits & Spells      GBA           2003.0      Platform   \n",
       "16714            Winning Post 8 2016      PSV           2016.0    Simulation   \n",
       "\n",
       "       NA_sales  EU_sales  JP_sales  Other_sales  Critic_Score User_Score  \\\n",
       "1         29.08      3.58      6.81         0.77           NaN        NaN   \n",
       "4         11.27      8.89     10.22         1.00           NaN        NaN   \n",
       "5         23.20      2.26      4.22         0.58           NaN        NaN   \n",
       "9         26.93      0.63      0.28         0.47           NaN        NaN   \n",
       "10         9.05     10.95      1.93         2.74           NaN        NaN   \n",
       "...         ...       ...       ...          ...           ...        ...   \n",
       "16710      0.00      0.00      0.01         0.00           NaN        NaN   \n",
       "16711      0.00      0.01      0.00         0.00           NaN        NaN   \n",
       "16712      0.00      0.00      0.01         0.00           NaN        NaN   \n",
       "16713      0.01      0.00      0.00         0.00           NaN        NaN   \n",
       "16714      0.00      0.00      0.01         0.00           NaN        NaN   \n",
       "\n",
       "      Rating  \n",
       "1        NaN  \n",
       "4        NaN  \n",
       "5        NaN  \n",
       "9        NaN  \n",
       "10       NaN  \n",
       "...      ...  \n",
       "16710    NaN  \n",
       "16711    NaN  \n",
       "16712    NaN  \n",
       "16713    NaN  \n",
       "16714    NaN  \n",
       "\n",
       "[8461 rows x 11 columns]"
      ]
     },
     "execution_count": 11,
     "metadata": {},
     "output_type": "execute_result"
    }
   ],
   "source": [
    "#Check rows missing Critic_Score - interesting finding!\n",
    "games_data[games_data['Critic_Score'].isnull()]"
   ]
  },
  {
   "cell_type": "markdown",
   "metadata": {},
   "source": [
    "Even though Critic_Score, User_Score and Rating don't have the exact same amount of nulls, there seems to be a relationship in which a lot of games have the three categories missing.\n",
    "\n",
    "A possible explanation for this is that Critic_Score can be missing because the game was not interesting to the user, so they left no score. Same would apply to User_Score. Quite often both user and critic score are missing in the same rows which might suggest that this data was not added to the dataset by some mistake (we can not know for sure).\n",
    "\n",
    "Rating column is based on the content of the game itself. From ESRB website: ESRB ratings provide information about what’s in a game or app so parents and consumers can make informed choices about which games are right for their family. We can't any other columns to fill in rating.\n",
    "\n",
    "We will not be manipulating these nulls. Instead, we will just select rows with not NaNs when doing analysis for scores."
   ]
  },
  {
   "cell_type": "code",
   "execution_count": 12,
   "metadata": {},
   "outputs": [
    {
     "data": {
      "text/plain": [
       "6605"
      ]
     },
     "execution_count": 12,
     "metadata": {},
     "output_type": "execute_result"
    }
   ],
   "source": [
    "#Count User_Score nulls\n",
    "games_data['User_Score'].isnull().sum()"
   ]
  },
  {
   "cell_type": "code",
   "execution_count": 13,
   "metadata": {},
   "outputs": [
    {
     "name": "stderr",
     "output_type": "stream",
     "text": [
      "/Users/AntonioKuri/opt/anaconda3/lib/python3.8/site-packages/pandas/core/indexing.py:670: SettingWithCopyWarning: \n",
      "A value is trying to be set on a copy of a slice from a DataFrame\n",
      "\n",
      "See the caveats in the documentation: https://pandas.pydata.org/pandas-docs/stable/user_guide/indexing.html#returning-a-view-versus-a-copy\n",
      "  iloc._setitem_with_indexer(indexer, value)\n"
     ]
    }
   ],
   "source": [
    "#Replace User_Score 'TBD' with null: TBD values tell us nothing for our analysis, just like nulls\n",
    "games_data['User_Score'].loc[games_data['User_Score'] == 'tbd'] = np.nan"
   ]
  },
  {
   "cell_type": "code",
   "execution_count": 14,
   "metadata": {},
   "outputs": [
    {
     "data": {
      "text/plain": [
       "8981"
      ]
     },
     "execution_count": 14,
     "metadata": {},
     "output_type": "execute_result"
    }
   ],
   "source": [
    "#Confirm creation of more User_Score nulls\n",
    "games_data['User_Score'].isnull().sum()"
   ]
  },
  {
   "cell_type": "code",
   "execution_count": 15,
   "metadata": {},
   "outputs": [
    {
     "data": {
      "text/html": [
       "<div>\n",
       "<style scoped>\n",
       "    .dataframe tbody tr th:only-of-type {\n",
       "        vertical-align: middle;\n",
       "    }\n",
       "\n",
       "    .dataframe tbody tr th {\n",
       "        vertical-align: top;\n",
       "    }\n",
       "\n",
       "    .dataframe thead th {\n",
       "        text-align: right;\n",
       "    }\n",
       "</style>\n",
       "<table border=\"1\" class=\"dataframe\">\n",
       "  <thead>\n",
       "    <tr style=\"text-align: right;\">\n",
       "      <th></th>\n",
       "      <th>Name</th>\n",
       "      <th>Platform</th>\n",
       "      <th>Year_of_Release</th>\n",
       "      <th>Genre</th>\n",
       "      <th>NA_sales</th>\n",
       "      <th>EU_sales</th>\n",
       "      <th>JP_sales</th>\n",
       "      <th>Other_sales</th>\n",
       "      <th>Critic_Score</th>\n",
       "      <th>User_Score</th>\n",
       "      <th>Rating</th>\n",
       "    </tr>\n",
       "  </thead>\n",
       "  <tbody>\n",
       "    <tr>\n",
       "      <th>0</th>\n",
       "      <td>Wii Sports</td>\n",
       "      <td>Wii</td>\n",
       "      <td>2006.0</td>\n",
       "      <td>Sports</td>\n",
       "      <td>41.36</td>\n",
       "      <td>28.96</td>\n",
       "      <td>3.77</td>\n",
       "      <td>8.45</td>\n",
       "      <td>76.0</td>\n",
       "      <td>8</td>\n",
       "      <td>E</td>\n",
       "    </tr>\n",
       "    <tr>\n",
       "      <th>1</th>\n",
       "      <td>Super Mario Bros.</td>\n",
       "      <td>NES</td>\n",
       "      <td>1985.0</td>\n",
       "      <td>Platform</td>\n",
       "      <td>29.08</td>\n",
       "      <td>3.58</td>\n",
       "      <td>6.81</td>\n",
       "      <td>0.77</td>\n",
       "      <td>NaN</td>\n",
       "      <td>NaN</td>\n",
       "      <td>unkown</td>\n",
       "    </tr>\n",
       "  </tbody>\n",
       "</table>\n",
       "</div>"
      ],
      "text/plain": [
       "                Name Platform  Year_of_Release     Genre  NA_sales  EU_sales  \\\n",
       "0         Wii Sports      Wii           2006.0    Sports     41.36     28.96   \n",
       "1  Super Mario Bros.      NES           1985.0  Platform     29.08      3.58   \n",
       "\n",
       "   JP_sales  Other_sales  Critic_Score User_Score  Rating  \n",
       "0      3.77         8.45          76.0          8       E  \n",
       "1      6.81         0.77           NaN        NaN  unkown  "
      ]
     },
     "execution_count": 15,
     "metadata": {},
     "output_type": "execute_result"
    }
   ],
   "source": [
    "#Replace Rating nulls with 'unkown'\n",
    "games_data['Rating'].fillna(value='unkown', inplace=True)\n",
    "games_data.head(2)"
   ]
  },
  {
   "cell_type": "code",
   "execution_count": 16,
   "metadata": {},
   "outputs": [
    {
     "name": "stdout",
     "output_type": "stream",
     "text": [
      "Propotion of NA_sales equaling 0: 0.2705546095840428\n",
      "Propotion of EU_sales equaling 0: 0.350644612016541\n",
      "Propotion of JP_sales equaling 0: 0.6263682802237899\n"
     ]
    }
   ],
   "source": [
    "#Explore data that has value 0 in sales\n",
    "print('Propotion of NA_sales equaling 0:', len(games_data.query('NA_sales == 0'))/len(games_data))\n",
    "print('Propotion of EU_sales equaling 0:', len(games_data.query('EU_sales == 0'))/len(games_data))\n",
    "print('Propotion of JP_sales equaling 0:', len(games_data.query('JP_sales == 0'))/len(games_data))"
   ]
  },
  {
   "cell_type": "markdown",
   "metadata": {},
   "source": [
    "An explanation for having sales by region equal to 0 is that those games were not released in those regions."
   ]
  },
  {
   "cell_type": "markdown",
   "metadata": {},
   "source": [
    "<a id='2.2heading'></a>"
   ]
  },
  {
   "cell_type": "markdown",
   "metadata": {},
   "source": [
    "### Data type replacement"
   ]
  },
  {
   "cell_type": "code",
   "execution_count": 17,
   "metadata": {},
   "outputs": [
    {
     "data": {
      "text/plain": [
       "Name                object\n",
       "Platform            object\n",
       "Year_of_Release    float64\n",
       "Genre               object\n",
       "NA_sales           float64\n",
       "EU_sales           float64\n",
       "JP_sales           float64\n",
       "Other_sales        float64\n",
       "Critic_Score       float64\n",
       "User_Score          object\n",
       "Rating              object\n",
       "dtype: object"
      ]
     },
     "execution_count": 17,
     "metadata": {},
     "output_type": "execute_result"
    }
   ],
   "source": [
    "games_data.dtypes"
   ]
  },
  {
   "cell_type": "code",
   "execution_count": 18,
   "metadata": {},
   "outputs": [
    {
     "data": {
      "text/plain": [
       "0"
      ]
     },
     "execution_count": 18,
     "metadata": {},
     "output_type": "execute_result"
    }
   ],
   "source": [
    "games_data['Year_of_Release'].isnull().sum()"
   ]
  },
  {
   "cell_type": "code",
   "execution_count": 19,
   "metadata": {},
   "outputs": [],
   "source": [
    "#Replaceing data types\n",
    "games_data['Year_of_Release'] = games_data['Year_of_Release'].astype(int)\n",
    "games_data['User_Score'] = games_data['User_Score'].astype(float)"
   ]
  },
  {
   "cell_type": "code",
   "execution_count": 20,
   "metadata": {},
   "outputs": [
    {
     "data": {
      "text/plain": [
       "Name                object\n",
       "Platform            object\n",
       "Year_of_Release      int64\n",
       "Genre               object\n",
       "NA_sales           float64\n",
       "EU_sales           float64\n",
       "JP_sales           float64\n",
       "Other_sales        float64\n",
       "Critic_Score       float64\n",
       "User_Score         float64\n",
       "Rating              object\n",
       "dtype: object"
      ]
     },
     "execution_count": 20,
     "metadata": {},
     "output_type": "execute_result"
    }
   ],
   "source": [
    "games_data.dtypes"
   ]
  },
  {
   "cell_type": "markdown",
   "metadata": {},
   "source": [
    "Year_of_Release and has been changed to int data types because their values represent whole numbers. Sales columns with numerical values have been left as floats because they contain decimal values. Critic_score column was left as float due to presence of nulls."
   ]
  },
  {
   "cell_type": "code",
   "execution_count": 21,
   "metadata": {},
   "outputs": [
    {
     "data": {
      "text/html": [
       "<div>\n",
       "<style scoped>\n",
       "    .dataframe tbody tr th:only-of-type {\n",
       "        vertical-align: middle;\n",
       "    }\n",
       "\n",
       "    .dataframe tbody tr th {\n",
       "        vertical-align: top;\n",
       "    }\n",
       "\n",
       "    .dataframe thead th {\n",
       "        text-align: right;\n",
       "    }\n",
       "</style>\n",
       "<table border=\"1\" class=\"dataframe\">\n",
       "  <thead>\n",
       "    <tr style=\"text-align: right;\">\n",
       "      <th></th>\n",
       "      <th>Name</th>\n",
       "      <th>Platform</th>\n",
       "      <th>Year_of_Release</th>\n",
       "      <th>Genre</th>\n",
       "      <th>NA_sales</th>\n",
       "      <th>EU_sales</th>\n",
       "      <th>JP_sales</th>\n",
       "      <th>Other_sales</th>\n",
       "      <th>Critic_Score</th>\n",
       "      <th>User_Score</th>\n",
       "      <th>Rating</th>\n",
       "    </tr>\n",
       "  </thead>\n",
       "  <tbody>\n",
       "    <tr>\n",
       "      <th>0</th>\n",
       "      <td>Wii Sports</td>\n",
       "      <td>Wii</td>\n",
       "      <td>2006</td>\n",
       "      <td>Sports</td>\n",
       "      <td>41.36</td>\n",
       "      <td>28.96</td>\n",
       "      <td>3.77</td>\n",
       "      <td>8.45</td>\n",
       "      <td>76.0</td>\n",
       "      <td>80.0</td>\n",
       "      <td>E</td>\n",
       "    </tr>\n",
       "    <tr>\n",
       "      <th>1</th>\n",
       "      <td>Super Mario Bros.</td>\n",
       "      <td>NES</td>\n",
       "      <td>1985</td>\n",
       "      <td>Platform</td>\n",
       "      <td>29.08</td>\n",
       "      <td>3.58</td>\n",
       "      <td>6.81</td>\n",
       "      <td>0.77</td>\n",
       "      <td>NaN</td>\n",
       "      <td>NaN</td>\n",
       "      <td>unkown</td>\n",
       "    </tr>\n",
       "    <tr>\n",
       "      <th>2</th>\n",
       "      <td>Mario Kart Wii</td>\n",
       "      <td>Wii</td>\n",
       "      <td>2008</td>\n",
       "      <td>Racing</td>\n",
       "      <td>15.68</td>\n",
       "      <td>12.76</td>\n",
       "      <td>3.79</td>\n",
       "      <td>3.29</td>\n",
       "      <td>82.0</td>\n",
       "      <td>83.0</td>\n",
       "      <td>E</td>\n",
       "    </tr>\n",
       "    <tr>\n",
       "      <th>3</th>\n",
       "      <td>Wii Sports Resort</td>\n",
       "      <td>Wii</td>\n",
       "      <td>2009</td>\n",
       "      <td>Sports</td>\n",
       "      <td>15.61</td>\n",
       "      <td>10.93</td>\n",
       "      <td>3.28</td>\n",
       "      <td>2.95</td>\n",
       "      <td>80.0</td>\n",
       "      <td>80.0</td>\n",
       "      <td>E</td>\n",
       "    </tr>\n",
       "    <tr>\n",
       "      <th>4</th>\n",
       "      <td>Pokemon Red/Pokemon Blue</td>\n",
       "      <td>GB</td>\n",
       "      <td>1996</td>\n",
       "      <td>Role-Playing</td>\n",
       "      <td>11.27</td>\n",
       "      <td>8.89</td>\n",
       "      <td>10.22</td>\n",
       "      <td>1.00</td>\n",
       "      <td>NaN</td>\n",
       "      <td>NaN</td>\n",
       "      <td>unkown</td>\n",
       "    </tr>\n",
       "  </tbody>\n",
       "</table>\n",
       "</div>"
      ],
      "text/plain": [
       "                       Name Platform  Year_of_Release         Genre  NA_sales  \\\n",
       "0                Wii Sports      Wii             2006        Sports     41.36   \n",
       "1         Super Mario Bros.      NES             1985      Platform     29.08   \n",
       "2            Mario Kart Wii      Wii             2008        Racing     15.68   \n",
       "3         Wii Sports Resort      Wii             2009        Sports     15.61   \n",
       "4  Pokemon Red/Pokemon Blue       GB             1996  Role-Playing     11.27   \n",
       "\n",
       "   EU_sales  JP_sales  Other_sales  Critic_Score  User_Score  Rating  \n",
       "0     28.96      3.77         8.45          76.0        80.0       E  \n",
       "1      3.58      6.81         0.77           NaN         NaN  unkown  \n",
       "2     12.76      3.79         3.29          82.0        83.0       E  \n",
       "3     10.93      3.28         2.95          80.0        80.0       E  \n",
       "4      8.89     10.22         1.00           NaN         NaN  unkown  "
      ]
     },
     "execution_count": 21,
     "metadata": {},
     "output_type": "execute_result"
    }
   ],
   "source": [
    "#Adding a zero to User_Score to match Critic_score format\n",
    "games_data['User_Score'] *= 10\n",
    "games_data.head()"
   ]
  },
  {
   "cell_type": "markdown",
   "metadata": {},
   "source": [
    "<a id='2.3heading'></a>"
   ]
  },
  {
   "cell_type": "markdown",
   "metadata": {},
   "source": [
    "### Processing duplicates"
   ]
  },
  {
   "cell_type": "code",
   "execution_count": 22,
   "metadata": {},
   "outputs": [],
   "source": [
    "#Making lower case Name, Platform and Genre\n",
    "games_data['Name'] = games_data['Name'].str.lower()\n",
    "games_data['Platform'] = games_data['Platform'].str.lower()\n",
    "games_data['Genre'] = games_data['Genre'].str.lower()"
   ]
  },
  {
   "cell_type": "code",
   "execution_count": 23,
   "metadata": {},
   "outputs": [
    {
     "data": {
      "text/html": [
       "<div>\n",
       "<style scoped>\n",
       "    .dataframe tbody tr th:only-of-type {\n",
       "        vertical-align: middle;\n",
       "    }\n",
       "\n",
       "    .dataframe tbody tr th {\n",
       "        vertical-align: top;\n",
       "    }\n",
       "\n",
       "    .dataframe thead th {\n",
       "        text-align: right;\n",
       "    }\n",
       "</style>\n",
       "<table border=\"1\" class=\"dataframe\">\n",
       "  <thead>\n",
       "    <tr style=\"text-align: right;\">\n",
       "      <th></th>\n",
       "      <th>Name</th>\n",
       "      <th>Platform</th>\n",
       "      <th>Year_of_Release</th>\n",
       "      <th>Genre</th>\n",
       "      <th>NA_sales</th>\n",
       "      <th>EU_sales</th>\n",
       "      <th>JP_sales</th>\n",
       "      <th>Other_sales</th>\n",
       "      <th>Critic_Score</th>\n",
       "      <th>User_Score</th>\n",
       "      <th>Rating</th>\n",
       "    </tr>\n",
       "  </thead>\n",
       "  <tbody>\n",
       "    <tr>\n",
       "      <th>16230</th>\n",
       "      <td>madden nfl 13</td>\n",
       "      <td>ps3</td>\n",
       "      <td>2012</td>\n",
       "      <td>sports</td>\n",
       "      <td>0.0</td>\n",
       "      <td>0.01</td>\n",
       "      <td>0.0</td>\n",
       "      <td>0.0</td>\n",
       "      <td>83.0</td>\n",
       "      <td>55.0</td>\n",
       "      <td>E</td>\n",
       "    </tr>\n",
       "  </tbody>\n",
       "</table>\n",
       "</div>"
      ],
      "text/plain": [
       "                Name Platform  Year_of_Release   Genre  NA_sales  EU_sales  \\\n",
       "16230  madden nfl 13      ps3             2012  sports       0.0      0.01   \n",
       "\n",
       "       JP_sales  Other_sales  Critic_Score  User_Score Rating  \n",
       "16230       0.0          0.0          83.0        55.0      E  "
      ]
     },
     "execution_count": 23,
     "metadata": {},
     "output_type": "execute_result"
    }
   ],
   "source": [
    "#Get duplicates based on based on 3 columns for games_data\n",
    "duplicates = games_data[games_data.duplicated(subset=['Name', 'Platform', 'Year_of_Release'])]\n",
    "duplicates"
   ]
  },
  {
   "cell_type": "code",
   "execution_count": 24,
   "metadata": {},
   "outputs": [
    {
     "name": "stdout",
     "output_type": "stream",
     "text": [
      "                Name Platform  Year_of_Release   Genre  NA_sales  EU_sales  \\\n",
      "604    madden nfl 13      ps3             2012  sports      2.11      0.22   \n",
      "16230  madden nfl 13      ps3             2012  sports      0.00      0.01   \n",
      "\n",
      "       JP_sales  Other_sales  Critic_Score  User_Score Rating  \n",
      "604         0.0         0.23          83.0        55.0      E  \n",
      "16230       0.0         0.00          83.0        55.0      E  \n"
     ]
    }
   ],
   "source": [
    "#Looking at duplicate rows\n",
    "print(games_data.query('Name == \"madden nfl 13\" and Platform == \"ps3\" and Year_of_Release == \"2012\"'))"
   ]
  },
  {
   "cell_type": "markdown",
   "metadata": {},
   "source": [
    "The fact that we have two entries for the same game may be the result of data collection from different vendors."
   ]
  },
  {
   "cell_type": "code",
   "execution_count": 25,
   "metadata": {},
   "outputs": [
    {
     "name": "stderr",
     "output_type": "stream",
     "text": [
      "<ipython-input-25-fd8032f19cbf>:2: SettingWithCopyWarning: \n",
      "A value is trying to be set on a copy of a slice from a DataFrame\n",
      "\n",
      "See the caveats in the documentation: https://pandas.pydata.org/pandas-docs/stable/user_guide/indexing.html#returning-a-view-versus-a-copy\n",
      "  games_data['EU_sales'][604] = games_data['EU_sales'][604] + 0.01\n"
     ]
    }
   ],
   "source": [
    "#Will add EU sales from index 16230 to index 604, and then delete index 16230\n",
    "games_data['EU_sales'][604] = games_data['EU_sales'][604] + 0.01\n",
    "games_data = games_data.drop(16230)"
   ]
  },
  {
   "cell_type": "code",
   "execution_count": 26,
   "metadata": {},
   "outputs": [
    {
     "name": "stdout",
     "output_type": "stream",
     "text": [
      "              Name Platform  Year_of_Release   Genre  NA_sales  EU_sales  \\\n",
      "604  madden nfl 13      ps3             2012  sports      2.11      0.23   \n",
      "\n",
      "     JP_sales  Other_sales  Critic_Score  User_Score Rating  \n",
      "604       0.0         0.23          83.0        55.0      E  \n"
     ]
    }
   ],
   "source": [
    "#Confirm addition to index 604 EU_sales and deletion of index 16230\n",
    "print(games_data.query('Name == \"madden nfl 13\" and Platform == \"ps3\" and Year_of_Release == \"2012\"'))"
   ]
  },
  {
   "cell_type": "markdown",
   "metadata": {},
   "source": [
    "<a id='2.4heading'></a>"
   ]
  },
  {
   "cell_type": "markdown",
   "metadata": {},
   "source": [
    "### Adding total sales"
   ]
  },
  {
   "cell_type": "code",
   "execution_count": 27,
   "metadata": {},
   "outputs": [
    {
     "data": {
      "text/html": [
       "<div>\n",
       "<style scoped>\n",
       "    .dataframe tbody tr th:only-of-type {\n",
       "        vertical-align: middle;\n",
       "    }\n",
       "\n",
       "    .dataframe tbody tr th {\n",
       "        vertical-align: top;\n",
       "    }\n",
       "\n",
       "    .dataframe thead th {\n",
       "        text-align: right;\n",
       "    }\n",
       "</style>\n",
       "<table border=\"1\" class=\"dataframe\">\n",
       "  <thead>\n",
       "    <tr style=\"text-align: right;\">\n",
       "      <th></th>\n",
       "      <th>Name</th>\n",
       "      <th>Platform</th>\n",
       "      <th>Year_of_Release</th>\n",
       "      <th>Genre</th>\n",
       "      <th>NA_sales</th>\n",
       "      <th>EU_sales</th>\n",
       "      <th>JP_sales</th>\n",
       "      <th>Other_sales</th>\n",
       "      <th>Critic_Score</th>\n",
       "      <th>User_Score</th>\n",
       "      <th>Rating</th>\n",
       "      <th>Total_sales</th>\n",
       "    </tr>\n",
       "  </thead>\n",
       "  <tbody>\n",
       "    <tr>\n",
       "      <th>0</th>\n",
       "      <td>wii sports</td>\n",
       "      <td>wii</td>\n",
       "      <td>2006</td>\n",
       "      <td>sports</td>\n",
       "      <td>41.36</td>\n",
       "      <td>28.96</td>\n",
       "      <td>3.77</td>\n",
       "      <td>8.45</td>\n",
       "      <td>76.0</td>\n",
       "      <td>80.0</td>\n",
       "      <td>E</td>\n",
       "      <td>74.09</td>\n",
       "    </tr>\n",
       "    <tr>\n",
       "      <th>1</th>\n",
       "      <td>super mario bros.</td>\n",
       "      <td>nes</td>\n",
       "      <td>1985</td>\n",
       "      <td>platform</td>\n",
       "      <td>29.08</td>\n",
       "      <td>3.58</td>\n",
       "      <td>6.81</td>\n",
       "      <td>0.77</td>\n",
       "      <td>NaN</td>\n",
       "      <td>NaN</td>\n",
       "      <td>unkown</td>\n",
       "      <td>39.47</td>\n",
       "    </tr>\n",
       "    <tr>\n",
       "      <th>2</th>\n",
       "      <td>mario kart wii</td>\n",
       "      <td>wii</td>\n",
       "      <td>2008</td>\n",
       "      <td>racing</td>\n",
       "      <td>15.68</td>\n",
       "      <td>12.76</td>\n",
       "      <td>3.79</td>\n",
       "      <td>3.29</td>\n",
       "      <td>82.0</td>\n",
       "      <td>83.0</td>\n",
       "      <td>E</td>\n",
       "      <td>32.23</td>\n",
       "    </tr>\n",
       "    <tr>\n",
       "      <th>3</th>\n",
       "      <td>wii sports resort</td>\n",
       "      <td>wii</td>\n",
       "      <td>2009</td>\n",
       "      <td>sports</td>\n",
       "      <td>15.61</td>\n",
       "      <td>10.93</td>\n",
       "      <td>3.28</td>\n",
       "      <td>2.95</td>\n",
       "      <td>80.0</td>\n",
       "      <td>80.0</td>\n",
       "      <td>E</td>\n",
       "      <td>29.82</td>\n",
       "    </tr>\n",
       "    <tr>\n",
       "      <th>4</th>\n",
       "      <td>pokemon red/pokemon blue</td>\n",
       "      <td>gb</td>\n",
       "      <td>1996</td>\n",
       "      <td>role-playing</td>\n",
       "      <td>11.27</td>\n",
       "      <td>8.89</td>\n",
       "      <td>10.22</td>\n",
       "      <td>1.00</td>\n",
       "      <td>NaN</td>\n",
       "      <td>NaN</td>\n",
       "      <td>unkown</td>\n",
       "      <td>30.38</td>\n",
       "    </tr>\n",
       "  </tbody>\n",
       "</table>\n",
       "</div>"
      ],
      "text/plain": [
       "                       Name Platform  Year_of_Release         Genre  NA_sales  \\\n",
       "0                wii sports      wii             2006        sports     41.36   \n",
       "1         super mario bros.      nes             1985      platform     29.08   \n",
       "2            mario kart wii      wii             2008        racing     15.68   \n",
       "3         wii sports resort      wii             2009        sports     15.61   \n",
       "4  pokemon red/pokemon blue       gb             1996  role-playing     11.27   \n",
       "\n",
       "   EU_sales  JP_sales  Other_sales  Critic_Score  User_Score  Rating  \\\n",
       "0     28.96      3.77         8.45          76.0        80.0       E   \n",
       "1      3.58      6.81         0.77           NaN         NaN  unkown   \n",
       "2     12.76      3.79         3.29          82.0        83.0       E   \n",
       "3     10.93      3.28         2.95          80.0        80.0       E   \n",
       "4      8.89     10.22         1.00           NaN         NaN  unkown   \n",
       "\n",
       "   Total_sales  \n",
       "0        74.09  \n",
       "1        39.47  \n",
       "2        32.23  \n",
       "3        29.82  \n",
       "4        30.38  "
      ]
     },
     "execution_count": 27,
     "metadata": {},
     "output_type": "execute_result"
    }
   ],
   "source": [
    "games_data['Total_sales'] = games_data['NA_sales']+games_data['EU_sales']+games_data['JP_sales']\n",
    "games_data.head()"
   ]
  },
  {
   "cell_type": "markdown",
   "metadata": {},
   "source": [
    "<a id='3heading'></a>"
   ]
  },
  {
   "cell_type": "markdown",
   "metadata": {},
   "source": [
    "## Analyzing the data"
   ]
  },
  {
   "cell_type": "markdown",
   "metadata": {},
   "source": [
    "<a id='3.1heading'></a>"
   ]
  },
  {
   "cell_type": "markdown",
   "metadata": {},
   "source": [
    "### How many games were released over the years"
   ]
  },
  {
   "cell_type": "code",
   "execution_count": 28,
   "metadata": {},
   "outputs": [
    {
     "data": {
      "text/html": [
       "<div>\n",
       "<style scoped>\n",
       "    .dataframe tbody tr th:only-of-type {\n",
       "        vertical-align: middle;\n",
       "    }\n",
       "\n",
       "    .dataframe tbody tr th {\n",
       "        vertical-align: top;\n",
       "    }\n",
       "\n",
       "    .dataframe thead th {\n",
       "        text-align: right;\n",
       "    }\n",
       "</style>\n",
       "<table border=\"1\" class=\"dataframe\">\n",
       "  <thead>\n",
       "    <tr style=\"text-align: right;\">\n",
       "      <th></th>\n",
       "      <th>Name</th>\n",
       "    </tr>\n",
       "    <tr>\n",
       "      <th>Year_of_Release</th>\n",
       "      <th></th>\n",
       "    </tr>\n",
       "  </thead>\n",
       "  <tbody>\n",
       "    <tr>\n",
       "      <th>1980</th>\n",
       "      <td>9</td>\n",
       "    </tr>\n",
       "    <tr>\n",
       "      <th>1981</th>\n",
       "      <td>46</td>\n",
       "    </tr>\n",
       "    <tr>\n",
       "      <th>1982</th>\n",
       "      <td>36</td>\n",
       "    </tr>\n",
       "    <tr>\n",
       "      <th>1983</th>\n",
       "      <td>17</td>\n",
       "    </tr>\n",
       "    <tr>\n",
       "      <th>1984</th>\n",
       "      <td>14</td>\n",
       "    </tr>\n",
       "  </tbody>\n",
       "</table>\n",
       "</div>"
      ],
      "text/plain": [
       "                 Name\n",
       "Year_of_Release      \n",
       "1980                9\n",
       "1981               46\n",
       "1982               36\n",
       "1983               17\n",
       "1984               14"
      ]
     },
     "execution_count": 28,
     "metadata": {},
     "output_type": "execute_result"
    }
   ],
   "source": [
    "games_year_pivot = games_data.pivot_table(index='Year_of_Release', values='Name', aggfunc='count')\n",
    "games_year_pivot.head()"
   ]
  },
  {
   "cell_type": "code",
   "execution_count": 29,
   "metadata": {},
   "outputs": [
    {
     "data": {
      "image/png": "[encoded data removed]",
      "text/plain": [
       "<Figure size 432x288 with 1 Axes>"
      ]
     },
     "metadata": {
      "needs_background": "light"
     },
     "output_type": "display_data"
    }
   ],
   "source": [
    "#Making bar chart for games released per year\n",
    "games_year_pivot['Name'].plot(kind='bar')\n",
    "plt.title('Games Released')\n",
    "plt.ylabel('Games           ', rotation=0)\n",
    "plt.show()"
   ]
  },
  {
   "cell_type": "markdown",
   "metadata": {},
   "source": [
    "Before 1995, the number of games released was not that significant. We see an a parabolic trend starting from 1995 which peaked in 2008 and 2009. The financial crisis of 2008 could be a indicator that funding in the videogame industry declinde, thus resulting in less games being released in future years. Game releases have been steadily maintained at about less than half of the 2008/2009 peak."
   ]
  },
  {
   "cell_type": "markdown",
   "metadata": {},
   "source": [
    "<a id='3.2heading'></a>"
   ]
  },
  {
   "cell_type": "markdown",
   "metadata": {},
   "source": [
    "### Sales varying from platform to platform over the years"
   ]
  },
  {
   "cell_type": "code",
   "execution_count": 30,
   "metadata": {},
   "outputs": [
    {
     "name": "stdout",
     "output_type": "stream",
     "text": [
      "                          Total_sales\n",
      "Year_of_Release Platform             \n",
      "1980            2600            11.26\n",
      "1981            2600            35.36\n",
      "1982            2600            28.57\n",
      "1983            2600             5.78\n",
      "                nes             10.88\n",
      "-------------------------------------\n",
      "       Total_sales\n",
      "count   238.000000\n",
      "mean     33.746807\n",
      "std      43.536787\n",
      "min       0.020000\n",
      "25%       3.550000\n",
      "50%      14.810000\n",
      "75%      47.312500\n",
      "max     189.430000\n"
     ]
    }
   ],
   "source": [
    "#Making pivot table containing Total_sales per year for every platform\n",
    "games_platform_sales_pivot = games_data.pivot_table(index=['Year_of_Release', 'Platform'],\n",
    "                                                    values='Total_sales',\n",
    "                                                    aggfunc='sum')\n",
    "print(games_platform_sales_pivot.head())\n",
    "print('-------------------------------------')\n",
    "print(games_platform_sales_pivot.describe())"
   ]
  },
  {
   "cell_type": "code",
   "execution_count": 31,
   "metadata": {},
   "outputs": [
    {
     "name": "stdout",
     "output_type": "stream",
     "text": [
      "New count of 4th quartile: 60\n"
     ]
    }
   ],
   "source": [
    "#Selecting platforms with greatest total sales - 4th quartile\n",
    "games_platform_sales_pivot = games_platform_sales_pivot.query('Total_sales >= 47.3')\n",
    "print('New count of 4th quartile:', len(games_platform_sales_pivot))"
   ]
  },
  {
   "cell_type": "code",
   "execution_count": 32,
   "metadata": {},
   "outputs": [
    {
     "data": {
      "text/html": [
       "<div>\n",
       "<style scoped>\n",
       "    .dataframe tbody tr th:only-of-type {\n",
       "        vertical-align: middle;\n",
       "    }\n",
       "\n",
       "    .dataframe tbody tr th {\n",
       "        vertical-align: top;\n",
       "    }\n",
       "\n",
       "    .dataframe thead th {\n",
       "        text-align: right;\n",
       "    }\n",
       "</style>\n",
       "<table border=\"1\" class=\"dataframe\">\n",
       "  <thead>\n",
       "    <tr style=\"text-align: right;\">\n",
       "      <th></th>\n",
       "      <th></th>\n",
       "      <th>Total_sales</th>\n",
       "    </tr>\n",
       "    <tr>\n",
       "      <th>Year_of_Release</th>\n",
       "      <th>Platform</th>\n",
       "      <th></th>\n",
       "    </tr>\n",
       "  </thead>\n",
       "  <tbody>\n",
       "    <tr>\n",
       "      <th>1984</th>\n",
       "      <th>nes</th>\n",
       "      <td>49.38</td>\n",
       "    </tr>\n",
       "    <tr>\n",
       "      <th>1985</th>\n",
       "      <th>nes</th>\n",
       "      <td>52.53</td>\n",
       "    </tr>\n",
       "    <tr>\n",
       "      <th>1989</th>\n",
       "      <th>gb</th>\n",
       "      <td>63.57</td>\n",
       "    </tr>\n",
       "    <tr>\n",
       "      <th>1996</th>\n",
       "      <th>ps</th>\n",
       "      <td>89.16</td>\n",
       "    </tr>\n",
       "    <tr>\n",
       "      <th>1997</th>\n",
       "      <th>ps</th>\n",
       "      <td>128.30</td>\n",
       "    </tr>\n",
       "  </tbody>\n",
       "</table>\n",
       "</div>"
      ],
      "text/plain": [
       "                          Total_sales\n",
       "Year_of_Release Platform             \n",
       "1984            nes             49.38\n",
       "1985            nes             52.53\n",
       "1989            gb              63.57\n",
       "1996            ps              89.16\n",
       "1997            ps             128.30"
      ]
     },
     "execution_count": 32,
     "metadata": {},
     "output_type": "execute_result"
    }
   ],
   "source": [
    "#See platforms with biggest sales\n",
    "games_platform_sales_pivot.head()"
   ]
  },
  {
   "cell_type": "code",
   "execution_count": 33,
   "metadata": {},
   "outputs": [],
   "source": [
    "#Making dataframe into series\n",
    "games_platform_sales_pivot = games_platform_sales_pivot.reset_index()\n",
    "games_platform_sales_pivot = games_platform_sales_pivot.set_index(['Year_of_Release', 'Platform']).Total_sales"
   ]
  },
  {
   "cell_type": "code",
   "execution_count": 34,
   "metadata": {},
   "outputs": [
    {
     "data": {
      "image/png": "[encoded data removed]",
      "text/plain": [
       "<Figure size 1152x576 with 1 Axes>"
      ]
     },
     "metadata": {
      "needs_background": "light"
     },
     "output_type": "display_data"
    }
   ],
   "source": [
    "#Making bar chart of High Selling Platforms Sales\n",
    "games_platform_sales_pivot.unstack().plot(kind='bar', figsize = (16,8))\n",
    "plt.title('Highest Selling Platforms - Videogames Sales (USD millions)')\n",
    "plt.show()"
   ]
  },
  {
   "cell_type": "markdown",
   "metadata": {},
   "source": [
    "We can see from the bar chart above that gaming platforms have a parabolic lifetime. It takes about 5-6 years for new platforms to appear and old ones to fade.\n",
    "\n"
   ]
  },
  {
   "cell_type": "markdown",
   "metadata": {},
   "source": [
    "<a id='3.3heading'></a>"
   ]
  },
  {
   "cell_type": "markdown",
   "metadata": {},
   "source": [
    "### Data for 2017 prognosis"
   ]
  },
  {
   "cell_type": "markdown",
   "metadata": {},
   "source": [
    "Total games released has remained consitent since 2014 and there is no reason to believe that 2017 will be any different.\n",
    "\n",
    "2014 marks the inception of next generation consoles PS4 and XOne.\n",
    "\n",
    "PS3 and Xbox360 have reached the end of their lifetime for high sales. The data indicates that the PS4 and Xbox1 consoles that will have the most sales for 2017 because their product lifetime has only started in 2014.\n",
    "\n",
    "After taking these points into consideration, we'll take be working with data from 2014 and later."
   ]
  },
  {
   "cell_type": "code",
   "execution_count": 35,
   "metadata": {},
   "outputs": [
    {
     "data": {
      "text/plain": [
       "2015    606\n",
       "2014    581\n",
       "2016    502\n",
       "Name: Year_of_Release, dtype: int64"
      ]
     },
     "execution_count": 35,
     "metadata": {},
     "output_type": "execute_result"
    }
   ],
   "source": [
    "#Slice the data for years 2014 and later; confirming query\n",
    "games_data_now = games_data.query('Year_of_Release >= 2014')\n",
    "games_data_now['Year_of_Release'].value_counts()"
   ]
  },
  {
   "cell_type": "code",
   "execution_count": 36,
   "metadata": {},
   "outputs": [
    {
     "data": {
      "text/html": [
       "<div>\n",
       "<style scoped>\n",
       "    .dataframe tbody tr th:only-of-type {\n",
       "        vertical-align: middle;\n",
       "    }\n",
       "\n",
       "    .dataframe tbody tr th {\n",
       "        vertical-align: top;\n",
       "    }\n",
       "\n",
       "    .dataframe thead th {\n",
       "        text-align: right;\n",
       "    }\n",
       "</style>\n",
       "<table border=\"1\" class=\"dataframe\">\n",
       "  <thead>\n",
       "    <tr style=\"text-align: right;\">\n",
       "      <th></th>\n",
       "      <th>Name</th>\n",
       "      <th>Platform</th>\n",
       "      <th>Year_of_Release</th>\n",
       "      <th>Genre</th>\n",
       "      <th>NA_sales</th>\n",
       "      <th>EU_sales</th>\n",
       "      <th>JP_sales</th>\n",
       "      <th>Other_sales</th>\n",
       "      <th>Critic_Score</th>\n",
       "      <th>User_Score</th>\n",
       "      <th>Rating</th>\n",
       "      <th>Total_sales</th>\n",
       "    </tr>\n",
       "  </thead>\n",
       "  <tbody>\n",
       "    <tr>\n",
       "      <th>31</th>\n",
       "      <td>call of duty: black ops 3</td>\n",
       "      <td>ps4</td>\n",
       "      <td>2015</td>\n",
       "      <td>shooter</td>\n",
       "      <td>6.03</td>\n",
       "      <td>5.86</td>\n",
       "      <td>0.36</td>\n",
       "      <td>2.38</td>\n",
       "      <td>NaN</td>\n",
       "      <td>NaN</td>\n",
       "      <td>unkown</td>\n",
       "      <td>12.25</td>\n",
       "    </tr>\n",
       "  </tbody>\n",
       "</table>\n",
       "</div>"
      ],
      "text/plain": [
       "                         Name Platform  Year_of_Release    Genre  NA_sales  \\\n",
       "31  call of duty: black ops 3      ps4             2015  shooter      6.03   \n",
       "\n",
       "    EU_sales  JP_sales  Other_sales  Critic_Score  User_Score  Rating  \\\n",
       "31      5.86      0.36         2.38           NaN         NaN  unkown   \n",
       "\n",
       "    Total_sales  \n",
       "31        12.25  "
      ]
     },
     "execution_count": 36,
     "metadata": {},
     "output_type": "execute_result"
    }
   ],
   "source": [
    "games_data_now.head(1)"
   ]
  },
  {
   "cell_type": "markdown",
   "metadata": {},
   "source": [
    "<a id='3.4heading'></a>"
   ]
  },
  {
   "cell_type": "markdown",
   "metadata": {},
   "source": [
    "### Platforms leading in sales (2014 - 2016)"
   ]
  },
  {
   "cell_type": "code",
   "execution_count": 37,
   "metadata": {},
   "outputs": [
    {
     "data": {
      "text/html": [
       "<div>\n",
       "<style scoped>\n",
       "    .dataframe tbody tr th:only-of-type {\n",
       "        vertical-align: middle;\n",
       "    }\n",
       "\n",
       "    .dataframe tbody tr th {\n",
       "        vertical-align: top;\n",
       "    }\n",
       "\n",
       "    .dataframe thead th {\n",
       "        text-align: right;\n",
       "    }\n",
       "</style>\n",
       "<table border=\"1\" class=\"dataframe\">\n",
       "  <thead>\n",
       "    <tr style=\"text-align: right;\">\n",
       "      <th></th>\n",
       "      <th></th>\n",
       "      <th>Total_sales</th>\n",
       "    </tr>\n",
       "    <tr>\n",
       "      <th>Year_of_Release</th>\n",
       "      <th>Platform</th>\n",
       "      <th></th>\n",
       "    </tr>\n",
       "  </thead>\n",
       "  <tbody>\n",
       "    <tr>\n",
       "      <th rowspan=\"5\" valign=\"top\">2014</th>\n",
       "      <th>3ds</th>\n",
       "      <td>41.75</td>\n",
       "    </tr>\n",
       "    <tr>\n",
       "      <th>pc</th>\n",
       "      <td>12.38</td>\n",
       "    </tr>\n",
       "    <tr>\n",
       "      <th>ps3</th>\n",
       "      <td>40.88</td>\n",
       "    </tr>\n",
       "    <tr>\n",
       "      <th>ps4</th>\n",
       "      <td>84.22</td>\n",
       "    </tr>\n",
       "    <tr>\n",
       "      <th>psp</th>\n",
       "      <td>0.24</td>\n",
       "    </tr>\n",
       "  </tbody>\n",
       "</table>\n",
       "</div>"
      ],
      "text/plain": [
       "                          Total_sales\n",
       "Year_of_Release Platform             \n",
       "2014            3ds             41.75\n",
       "                pc              12.38\n",
       "                ps3             40.88\n",
       "                ps4             84.22\n",
       "                psp              0.24"
      ]
     },
     "execution_count": 37,
     "metadata": {},
     "output_type": "execute_result"
    }
   ],
   "source": [
    "#Making pivot table containing Total_sales per year for every platform (2014 and later)\n",
    "games_platform_sales_pivot_now = games_data_now.pivot_table(index=['Year_of_Release', 'Platform'], values='Total_sales', aggfunc='sum')\n",
    "games_platform_sales_pivot_now.head()"
   ]
  },
  {
   "cell_type": "code",
   "execution_count": 38,
   "metadata": {},
   "outputs": [],
   "source": [
    "#Making dataframe into series\n",
    "games_platform_sales_pivot_now = games_platform_sales_pivot_now.reset_index()\n",
    "games_platform_sales_pivot_now = games_platform_sales_pivot_now.set_index(['Year_of_Release', 'Platform']).Total_sales"
   ]
  },
  {
   "cell_type": "code",
   "execution_count": 39,
   "metadata": {},
   "outputs": [
    {
     "data": {
      "image/png": "[encoded data removed]",
      "text/plain": [
       "<Figure size 1152x576 with 1 Axes>"
      ]
     },
     "metadata": {
      "needs_background": "light"
     },
     "output_type": "display_data"
    }
   ],
   "source": [
    "#Making bar chart of Platforms Sales (2014 and later)\n",
    "games_platform_sales_pivot_now.unstack().plot(kind='bar', figsize = (16,8))\n",
    "plt.title('Platform Videogames Sales (USD millions)')\n",
    "plt.show()"
   ]
  },
  {
   "cell_type": "markdown",
   "metadata": {},
   "source": [
    "The three platforms that are leading in sales the past three years are PS4, XOne and 3DS (in that order).\n",
    "\n",
    "\n",
    "The following saw a consistent decreasing trend in sales: 3DS, PC, PS3, PSV, Wii, WiiU and X360.\n",
    "\n",
    "PS3 and X360 used to have high video game sales, but the release of their more modern counterparts canabalized their market share.\n",
    "\n",
    "Note: PSP sales are very insignificant.\n",
    "\n",
    "**We've selected PS4, XOne, 3DS and PC as potentially profitable platforms**  \n",
    "- PS4 and XOne saw an increasing trend from 2014-2015, unlike the rest, and have the most sales.  \n",
    "- 3DS and PC are the next two with biggest market share in 2016."
   ]
  },
  {
   "cell_type": "code",
   "execution_count": 40,
   "metadata": {},
   "outputs": [
    {
     "data": {
      "text/plain": [
       "ps4     376\n",
       "xone    228\n",
       "3ds     212\n",
       "pc      151\n",
       "Name: Platform, dtype: int64"
      ]
     },
     "execution_count": 40,
     "metadata": {},
     "output_type": "execute_result"
    }
   ],
   "source": [
    "games_data_now = games_data_now.query('Platform in [\"ps4\",\"xone\",\"3ds\",\"pc\"]')\n",
    "games_data_now['Platform'].value_counts()"
   ]
  },
  {
   "cell_type": "markdown",
   "metadata": {},
   "source": [
    "<a id='3.5heading'></a>"
   ]
  },
  {
   "cell_type": "markdown",
   "metadata": {},
   "source": [
    "### Global sales of all games, broken down by platform (2014 - 2016)"
   ]
  },
  {
   "cell_type": "code",
   "execution_count": 41,
   "metadata": {},
   "outputs": [
    {
     "data": {
      "image/png": "[encoded data removed]",
      "text/plain": [
       "<Figure size 432x288 with 1 Axes>"
      ]
     },
     "metadata": {
      "needs_background": "light"
     },
     "output_type": "display_data"
    },
    {
     "name": "stdout",
     "output_type": "stream",
     "text": [
      "Means\n"
     ]
    },
    {
     "data": {
      "text/plain": [
       "Platform\n",
       "ps4     0.648059\n",
       "xone    0.560702\n",
       "3ds     0.391509\n",
       "pc      0.166887\n",
       "Name: Total_sales, dtype: float64"
      ]
     },
     "execution_count": 41,
     "metadata": {},
     "output_type": "execute_result"
    }
   ],
   "source": [
    "#Creating boxplot for variable Platform based on Total_sales\n",
    "games_data_now.boxplot(by='Platform', column =['Total_sales'])\n",
    "plt.ylim(0, 2.5)\n",
    "plt.show()\n",
    "#Showing mean total_sales per platform\n",
    "print('Means')\n",
    "games_data_now.groupby('Platform')['Total_sales'].mean().sort_values(ascending=False)"
   ]
  },
  {
   "cell_type": "markdown",
   "metadata": {},
   "source": [
    "The differences in total sales are significant when comparing PS4 and XOne to 3DS and PC.\n",
    "\n",
    "- The interquartile range and upper outliers bound for PS4 and XOne are very similar, and much larger than those of 3DS and PC, which have similar interquartile ranges.\n",
    "- The average for PS4 videogame sales is largest at 0.64 million, followed by XOne at 0.56 million. 3DS takes third place with 0.39 million, and PC comes last with a mere 0.17 million."
   ]
  },
  {
   "cell_type": "markdown",
   "metadata": {},
   "source": [
    "<a id='3.6heading'></a>"
   ]
  },
  {
   "cell_type": "markdown",
   "metadata": {},
   "source": [
    "### Do user and professional reviews affect sales for one popular platform? (2014 - 2016)"
   ]
  },
  {
   "cell_type": "code",
   "execution_count": 42,
   "metadata": {},
   "outputs": [
    {
     "data": {
      "text/plain": [
       "ps4    376\n",
       "Name: Platform, dtype: int64"
      ]
     },
     "execution_count": 42,
     "metadata": {},
     "output_type": "execute_result"
    }
   ],
   "source": [
    "#Get dataframe with only PS4 games\n",
    "games_data_now_ps4 = games_data_now.query('Platform == \"ps4\"')\n",
    "games_data_now_ps4['Platform'].value_counts()"
   ]
  },
  {
   "cell_type": "code",
   "execution_count": 43,
   "metadata": {},
   "outputs": [
    {
     "data": {
      "text/html": [
       "<div>\n",
       "<style scoped>\n",
       "    .dataframe tbody tr th:only-of-type {\n",
       "        vertical-align: middle;\n",
       "    }\n",
       "\n",
       "    .dataframe tbody tr th {\n",
       "        vertical-align: top;\n",
       "    }\n",
       "\n",
       "    .dataframe thead th {\n",
       "        text-align: right;\n",
       "    }\n",
       "</style>\n",
       "<table border=\"1\" class=\"dataframe\">\n",
       "  <thead>\n",
       "    <tr style=\"text-align: right;\">\n",
       "      <th></th>\n",
       "      <th>User_Score</th>\n",
       "      <th>Total_sales</th>\n",
       "    </tr>\n",
       "  </thead>\n",
       "  <tbody>\n",
       "    <tr>\n",
       "      <th>42</th>\n",
       "      <td>83.0</td>\n",
       "      <td>10.65</td>\n",
       "    </tr>\n",
       "    <tr>\n",
       "      <th>77</th>\n",
       "      <td>43.0</td>\n",
       "      <td>7.30</td>\n",
       "    </tr>\n",
       "    <tr>\n",
       "      <th>92</th>\n",
       "      <td>57.0</td>\n",
       "      <td>6.43</td>\n",
       "    </tr>\n",
       "    <tr>\n",
       "      <th>94</th>\n",
       "      <td>50.0</td>\n",
       "      <td>6.49</td>\n",
       "    </tr>\n",
       "    <tr>\n",
       "      <th>105</th>\n",
       "      <td>65.0</td>\n",
       "      <td>6.04</td>\n",
       "    </tr>\n",
       "  </tbody>\n",
       "</table>\n",
       "</div>"
      ],
      "text/plain": [
       "     User_Score  Total_sales\n",
       "42         83.0        10.65\n",
       "77         43.0         7.30\n",
       "92         57.0         6.43\n",
       "94         50.0         6.49\n",
       "105        65.0         6.04"
      ]
     },
     "execution_count": 43,
     "metadata": {},
     "output_type": "execute_result"
    }
   ],
   "source": [
    "#Dataframe with User_Score and Total_sales (also dropped User_Score nulls)\n",
    "games_data_now_ps4_ureviews = games_data_now_ps4[['User_Score', 'Total_sales']]\n",
    "games_data_now_ps4_ureviews = games_data_now_ps4_ureviews.dropna()\n",
    "games_data_now_ps4_ureviews.head()"
   ]
  },
  {
   "cell_type": "code",
   "execution_count": 44,
   "metadata": {},
   "outputs": [
    {
     "name": "stdout",
     "output_type": "stream",
     "text": [
      "             User_Score  Total_sales\n",
      "User_Score     1.000000    -0.039364\n",
      "Total_sales   -0.039364     1.000000\n"
     ]
    },
    {
     "data": {
      "image/png": "[encoded data removed]",
      "text/plain": [
       "<Figure size 648x648 with 4 Axes>"
      ]
     },
     "metadata": {
      "needs_background": "light"
     },
     "output_type": "display_data"
    }
   ],
   "source": [
    "#Making scatterplots and finding correlations\n",
    "print(games_data_now_ps4_ureviews.corr())\n",
    "pd.plotting.scatter_matrix(games_data_now_ps4_ureviews, figsize=(9, 9))\n",
    "plt.show()"
   ]
  },
  {
   "cell_type": "code",
   "execution_count": 45,
   "metadata": {},
   "outputs": [
    {
     "data": {
      "text/html": [
       "<div>\n",
       "<style scoped>\n",
       "    .dataframe tbody tr th:only-of-type {\n",
       "        vertical-align: middle;\n",
       "    }\n",
       "\n",
       "    .dataframe tbody tr th {\n",
       "        vertical-align: top;\n",
       "    }\n",
       "\n",
       "    .dataframe thead th {\n",
       "        text-align: right;\n",
       "    }\n",
       "</style>\n",
       "<table border=\"1\" class=\"dataframe\">\n",
       "  <thead>\n",
       "    <tr style=\"text-align: right;\">\n",
       "      <th></th>\n",
       "      <th>Critic_Score</th>\n",
       "      <th>Total_sales</th>\n",
       "    </tr>\n",
       "  </thead>\n",
       "  <tbody>\n",
       "    <tr>\n",
       "      <th>42</th>\n",
       "      <td>97.0</td>\n",
       "      <td>10.65</td>\n",
       "    </tr>\n",
       "    <tr>\n",
       "      <th>77</th>\n",
       "      <td>82.0</td>\n",
       "      <td>7.30</td>\n",
       "    </tr>\n",
       "    <tr>\n",
       "      <th>92</th>\n",
       "      <td>83.0</td>\n",
       "      <td>6.43</td>\n",
       "    </tr>\n",
       "    <tr>\n",
       "      <th>94</th>\n",
       "      <td>85.0</td>\n",
       "      <td>6.49</td>\n",
       "    </tr>\n",
       "    <tr>\n",
       "      <th>105</th>\n",
       "      <td>87.0</td>\n",
       "      <td>6.04</td>\n",
       "    </tr>\n",
       "  </tbody>\n",
       "</table>\n",
       "</div>"
      ],
      "text/plain": [
       "     Critic_Score  Total_sales\n",
       "42           97.0        10.65\n",
       "77           82.0         7.30\n",
       "92           83.0         6.43\n",
       "94           85.0         6.49\n",
       "105          87.0         6.04"
      ]
     },
     "execution_count": 45,
     "metadata": {},
     "output_type": "execute_result"
    }
   ],
   "source": [
    "#Dataframe with Critic_Score and Total_sales (also dropped Critic_Score nulls)\n",
    "games_data_now_ps4_previews = games_data_now_ps4[['Critic_Score', 'Total_sales']]\n",
    "games_data_now_ps4_previews = games_data_now_ps4_previews.dropna()\n",
    "games_data_now_ps4_previews.head()"
   ]
  },
  {
   "cell_type": "code",
   "execution_count": 46,
   "metadata": {},
   "outputs": [
    {
     "name": "stdout",
     "output_type": "stream",
     "text": [
      "              Critic_Score  Total_sales\n",
      "Critic_Score       1.00000      0.40212\n",
      "Total_sales        0.40212      1.00000\n"
     ]
    },
    {
     "data": {
      "image/png": "[encoded data removed]",
      "text/plain": [
       "<Figure size 648x648 with 4 Axes>"
      ]
     },
     "metadata": {
      "needs_background": "light"
     },
     "output_type": "display_data"
    }
   ],
   "source": [
    "#Making scatterplots and finding correlations\n",
    "print(games_data_now_ps4_previews.corr())\n",
    "pd.plotting.scatter_matrix(games_data_now_ps4_previews, figsize=(9, 9))\n",
    "plt.show()"
   ]
  },
  {
   "cell_type": "markdown",
   "metadata": {},
   "source": [
    "We can see from the scatterplots that there is an insignificant negative correlation of -0.03 between user_score and total_sales.\n",
    "\n",
    "However, there is a significant positive correlation of of 0.4 between critic_score and total_sales. This means that critic_score is a potential indicator of whether or not a game has high total_sales."
   ]
  },
  {
   "cell_type": "markdown",
   "metadata": {},
   "source": [
    "<a id='3.7heading'></a>"
   ]
  },
  {
   "cell_type": "markdown",
   "metadata": {},
   "source": [
    "### Comparing the sales of the same game on all platforms (2014 - 2016)"
   ]
  },
  {
   "cell_type": "code",
   "execution_count": 47,
   "metadata": {},
   "outputs": [
    {
     "data": {
      "text/html": [
       "<div>\n",
       "<style scoped>\n",
       "    .dataframe tbody tr th:only-of-type {\n",
       "        vertical-align: middle;\n",
       "    }\n",
       "\n",
       "    .dataframe tbody tr th {\n",
       "        vertical-align: top;\n",
       "    }\n",
       "\n",
       "    .dataframe thead th {\n",
       "        text-align: right;\n",
       "    }\n",
       "</style>\n",
       "<table border=\"1\" class=\"dataframe\">\n",
       "  <thead>\n",
       "    <tr style=\"text-align: right;\">\n",
       "      <th></th>\n",
       "      <th>Name</th>\n",
       "      <th>Platform</th>\n",
       "      <th>Year_of_Release</th>\n",
       "      <th>Genre</th>\n",
       "      <th>NA_sales</th>\n",
       "      <th>EU_sales</th>\n",
       "      <th>JP_sales</th>\n",
       "      <th>Other_sales</th>\n",
       "      <th>Critic_Score</th>\n",
       "      <th>User_Score</th>\n",
       "      <th>Rating</th>\n",
       "      <th>Total_sales</th>\n",
       "    </tr>\n",
       "  </thead>\n",
       "  <tbody>\n",
       "    <tr>\n",
       "      <th>143</th>\n",
       "      <td>fifa 15</td>\n",
       "      <td>ps4</td>\n",
       "      <td>2014</td>\n",
       "      <td>sports</td>\n",
       "      <td>0.80</td>\n",
       "      <td>4.33</td>\n",
       "      <td>0.05</td>\n",
       "      <td>0.90</td>\n",
       "      <td>82.0</td>\n",
       "      <td>57.0</td>\n",
       "      <td>E</td>\n",
       "      <td>5.18</td>\n",
       "    </tr>\n",
       "    <tr>\n",
       "      <th>754</th>\n",
       "      <td>fifa 15</td>\n",
       "      <td>xone</td>\n",
       "      <td>2014</td>\n",
       "      <td>sports</td>\n",
       "      <td>0.60</td>\n",
       "      <td>1.42</td>\n",
       "      <td>0.00</td>\n",
       "      <td>0.16</td>\n",
       "      <td>82.0</td>\n",
       "      <td>54.0</td>\n",
       "      <td>E</td>\n",
       "      <td>2.02</td>\n",
       "    </tr>\n",
       "    <tr>\n",
       "      <th>4279</th>\n",
       "      <td>fifa 15</td>\n",
       "      <td>3ds</td>\n",
       "      <td>2014</td>\n",
       "      <td>sports</td>\n",
       "      <td>0.09</td>\n",
       "      <td>0.34</td>\n",
       "      <td>0.00</td>\n",
       "      <td>0.03</td>\n",
       "      <td>NaN</td>\n",
       "      <td>24.0</td>\n",
       "      <td>E</td>\n",
       "      <td>0.43</td>\n",
       "    </tr>\n",
       "    <tr>\n",
       "      <th>6097</th>\n",
       "      <td>fifa 15</td>\n",
       "      <td>pc</td>\n",
       "      <td>2014</td>\n",
       "      <td>sports</td>\n",
       "      <td>0.00</td>\n",
       "      <td>0.27</td>\n",
       "      <td>0.00</td>\n",
       "      <td>0.02</td>\n",
       "      <td>82.0</td>\n",
       "      <td>42.0</td>\n",
       "      <td>E</td>\n",
       "      <td>0.27</td>\n",
       "    </tr>\n",
       "  </tbody>\n",
       "</table>\n",
       "</div>"
      ],
      "text/plain": [
       "         Name Platform  Year_of_Release   Genre  NA_sales  EU_sales  JP_sales  \\\n",
       "143   fifa 15      ps4             2014  sports      0.80      4.33      0.05   \n",
       "754   fifa 15     xone             2014  sports      0.60      1.42      0.00   \n",
       "4279  fifa 15      3ds             2014  sports      0.09      0.34      0.00   \n",
       "6097  fifa 15       pc             2014  sports      0.00      0.27      0.00   \n",
       "\n",
       "      Other_sales  Critic_Score  User_Score Rating  Total_sales  \n",
       "143          0.90          82.0        57.0      E         5.18  \n",
       "754          0.16          82.0        54.0      E         2.02  \n",
       "4279         0.03           NaN        24.0      E         0.43  \n",
       "6097         0.02          82.0        42.0      E         0.27  "
      ]
     },
     "execution_count": 47,
     "metadata": {},
     "output_type": "execute_result"
    }
   ],
   "source": [
    "#Get dataframe with only FIFA 15\n",
    "games_data_now_FIFA15 = games_data_now.query('Name == \"fifa 15\"')\n",
    "games_data_now_FIFA15"
   ]
  },
  {
   "cell_type": "code",
   "execution_count": 48,
   "metadata": {},
   "outputs": [],
   "source": [
    "#Set platform as index\n",
    "games_data_now_FIFA15 = games_data_now_FIFA15.set_index('Platform')"
   ]
  },
  {
   "cell_type": "code",
   "execution_count": 49,
   "metadata": {},
   "outputs": [
    {
     "data": {
      "text/plain": [
       "<function matplotlib.pyplot.show(close=None, block=None)>"
      ]
     },
     "execution_count": 49,
     "metadata": {},
     "output_type": "execute_result"
    },
    {
     "data": {
      "image/png": "[encoded data removed]",
      "text/plain": [
       "<Figure size 432x288 with 1 Axes>"
      ]
     },
     "metadata": {
      "needs_background": "light"
     },
     "output_type": "display_data"
    }
   ],
   "source": [
    "games_data_now_FIFA15['Total_sales'].plot(kind='bar')\n",
    "plt.title('FIFA 15 Sales (USD millions)')\n",
    "plt.show"
   ]
  },
  {
   "cell_type": "markdown",
   "metadata": {},
   "source": [
    "With PS4 being the most popular platform, we can see that it's FIFA 15 sales more than double of second place XOne."
   ]
  },
  {
   "cell_type": "markdown",
   "metadata": {},
   "source": [
    "<a id='3.8heading'></a>"
   ]
  },
  {
   "cell_type": "markdown",
   "metadata": {},
   "source": [
    "### Profitability of games based on genre (2014 - 2016)"
   ]
  },
  {
   "cell_type": "code",
   "execution_count": 50,
   "metadata": {},
   "outputs": [
    {
     "data": {
      "text/html": [
       "<div>\n",
       "<style scoped>\n",
       "    .dataframe tbody tr th:only-of-type {\n",
       "        vertical-align: middle;\n",
       "    }\n",
       "\n",
       "    .dataframe tbody tr th {\n",
       "        vertical-align: top;\n",
       "    }\n",
       "\n",
       "    .dataframe thead th {\n",
       "        text-align: right;\n",
       "    }\n",
       "</style>\n",
       "<table border=\"1\" class=\"dataframe\">\n",
       "  <thead>\n",
       "    <tr style=\"text-align: right;\">\n",
       "      <th></th>\n",
       "      <th>Total_sales</th>\n",
       "    </tr>\n",
       "    <tr>\n",
       "      <th>Genre</th>\n",
       "      <th></th>\n",
       "    </tr>\n",
       "  </thead>\n",
       "  <tbody>\n",
       "    <tr>\n",
       "      <th>action</th>\n",
       "      <td>132.30</td>\n",
       "    </tr>\n",
       "    <tr>\n",
       "      <th>adventure</th>\n",
       "      <td>9.74</td>\n",
       "    </tr>\n",
       "    <tr>\n",
       "      <th>fighting</th>\n",
       "      <td>16.21</td>\n",
       "    </tr>\n",
       "    <tr>\n",
       "      <th>misc</th>\n",
       "      <td>16.48</td>\n",
       "    </tr>\n",
       "    <tr>\n",
       "      <th>platform</th>\n",
       "      <td>8.93</td>\n",
       "    </tr>\n",
       "    <tr>\n",
       "      <th>puzzle</th>\n",
       "      <td>0.87</td>\n",
       "    </tr>\n",
       "    <tr>\n",
       "      <th>racing</th>\n",
       "      <td>15.60</td>\n",
       "    </tr>\n",
       "    <tr>\n",
       "      <th>role-playing</th>\n",
       "      <td>77.21</td>\n",
       "    </tr>\n",
       "    <tr>\n",
       "      <th>shooter</th>\n",
       "      <td>121.70</td>\n",
       "    </tr>\n",
       "    <tr>\n",
       "      <th>simulation</th>\n",
       "      <td>11.48</td>\n",
       "    </tr>\n",
       "    <tr>\n",
       "      <th>sports</th>\n",
       "      <td>65.71</td>\n",
       "    </tr>\n",
       "    <tr>\n",
       "      <th>strategy</th>\n",
       "      <td>3.48</td>\n",
       "    </tr>\n",
       "  </tbody>\n",
       "</table>\n",
       "</div>"
      ],
      "text/plain": [
       "              Total_sales\n",
       "Genre                    \n",
       "action             132.30\n",
       "adventure            9.74\n",
       "fighting            16.21\n",
       "misc                16.48\n",
       "platform             8.93\n",
       "puzzle               0.87\n",
       "racing              15.60\n",
       "role-playing        77.21\n",
       "shooter            121.70\n",
       "simulation          11.48\n",
       "sports              65.71\n",
       "strategy             3.48"
      ]
     },
     "execution_count": 50,
     "metadata": {},
     "output_type": "execute_result"
    }
   ],
   "source": [
    "#Getting total_sales by genre from 2014-2016\n",
    "games_data_now_genre = games_data_now.pivot_table(index='Genre', values='Total_sales', aggfunc='sum')\n",
    "games_data_now_genre"
   ]
  },
  {
   "cell_type": "code",
   "execution_count": 51,
   "metadata": {},
   "outputs": [
    {
     "data": {
      "image/png": "[encoded data removed]",
      "text/plain": [
       "<Figure size 432x288 with 1 Axes>"
      ]
     },
     "metadata": {
      "needs_background": "light"
     },
     "output_type": "display_data"
    }
   ],
   "source": [
    "#Bar graph showing total_sales per genre from 2014-2016\n",
    "games_data_now_genre.sort_values(by='Total_sales', ascending = False).plot(kind='bar')\n",
    "plt.title('Total sales by genre 2014-2016 (USD millions)')\n",
    "plt.show()"
   ]
  },
  {
   "cell_type": "code",
   "execution_count": 52,
   "metadata": {},
   "outputs": [
    {
     "data": {
      "text/plain": [
       "Genre\n",
       "shooter         1.281053\n",
       "sports          0.714239\n",
       "role-playing    0.622661\n",
       "fighting        0.558966\n",
       "platform        0.405909\n",
       "action          0.379083\n",
       "racing          0.318367\n",
       "simulation      0.310270\n",
       "misc            0.279322\n",
       "adventure       0.137183\n",
       "puzzle          0.108750\n",
       "strategy        0.108750\n",
       "Name: Total_sales, dtype: float64"
      ]
     },
     "execution_count": 52,
     "metadata": {},
     "output_type": "execute_result"
    }
   ],
   "source": [
    "#Getting table with genre total_sales mean from 2014 - 2016\n",
    "games_data_now_genre_mean = games_data_now.groupby('Genre')['Total_sales'].mean().sort_values(ascending=False)\n",
    "games_data_now_genre_mean"
   ]
  },
  {
   "cell_type": "code",
   "execution_count": 53,
   "metadata": {},
   "outputs": [
    {
     "data": {
      "image/png": "[encoded data removed]",
      "text/plain": [
       "<Figure size 432x288 with 1 Axes>"
      ]
     },
     "metadata": {
      "needs_background": "light"
     },
     "output_type": "display_data"
    }
   ],
   "source": [
    "#Making bar graph showing total_sales mean by genre from 2014-2016\n",
    "games_data_now_genre_mean.plot(kind='bar')\n",
    "plt.title('Average total sales by genre 2014-2016 (USD millions)')\n",
    "plt.show()"
   ]
  },
  {
   "cell_type": "markdown",
   "metadata": {},
   "source": [
    "We can't generalize how profitable a game genre is simply based on total_sales. There are indeed some genres like shooter that have high total_sales and happen to be the most profitable. Howeever, platform games happen to be the third to last in total sales, but the 5th most profitable. Action games happen to have the most total_sales, but are placed sixth in average total sales. "
   ]
  },
  {
   "cell_type": "markdown",
   "metadata": {},
   "source": [
    "<a id='4heading'></a>"
   ]
  },
  {
   "cell_type": "markdown",
   "metadata": {},
   "source": [
    "## Creating a user profile for each region"
   ]
  },
  {
   "cell_type": "markdown",
   "metadata": {},
   "source": [
    "In this section, we'll see which platforms are popular in the three regions as well as their top five genres. We'll also see if ESRB ratings affect sales in individual regions."
   ]
  },
  {
   "cell_type": "markdown",
   "metadata": {},
   "source": [
    "<a id='4.1heading'></a>"
   ]
  },
  {
   "cell_type": "markdown",
   "metadata": {},
   "source": [
    "### Top Five Platforms by Region"
   ]
  },
  {
   "cell_type": "code",
   "execution_count": 54,
   "metadata": {},
   "outputs": [
    {
     "data": {
      "text/plain": [
       "2015    606\n",
       "2014    581\n",
       "2016    502\n",
       "Name: Year_of_Release, dtype: int64"
      ]
     },
     "execution_count": 54,
     "metadata": {},
     "output_type": "execute_result"
    }
   ],
   "source": [
    "#Creating new dataframe containing data from 2014-2016\n",
    "games_data_region_now = games_data.query('Year_of_Release >= 2014')\n",
    "games_data_region_now['Year_of_Release'].value_counts()"
   ]
  },
  {
   "cell_type": "code",
   "execution_count": 55,
   "metadata": {},
   "outputs": [
    {
     "data": {
      "text/html": [
       "<div>\n",
       "<style scoped>\n",
       "    .dataframe tbody tr th:only-of-type {\n",
       "        vertical-align: middle;\n",
       "    }\n",
       "\n",
       "    .dataframe tbody tr th {\n",
       "        vertical-align: top;\n",
       "    }\n",
       "\n",
       "    .dataframe thead th {\n",
       "        text-align: right;\n",
       "    }\n",
       "</style>\n",
       "<table border=\"1\" class=\"dataframe\">\n",
       "  <thead>\n",
       "    <tr style=\"text-align: right;\">\n",
       "      <th></th>\n",
       "      <th>NA_sales</th>\n",
       "    </tr>\n",
       "    <tr>\n",
       "      <th>Platform</th>\n",
       "      <th></th>\n",
       "    </tr>\n",
       "  </thead>\n",
       "  <tbody>\n",
       "    <tr>\n",
       "      <th>3ds</th>\n",
       "      <td>22.64</td>\n",
       "    </tr>\n",
       "    <tr>\n",
       "      <th>pc</th>\n",
       "      <td>7.23</td>\n",
       "    </tr>\n",
       "    <tr>\n",
       "      <th>ps3</th>\n",
       "      <td>22.05</td>\n",
       "    </tr>\n",
       "    <tr>\n",
       "      <th>ps4</th>\n",
       "      <td>98.61</td>\n",
       "    </tr>\n",
       "    <tr>\n",
       "      <th>psp</th>\n",
       "      <td>0.00</td>\n",
       "    </tr>\n",
       "    <tr>\n",
       "      <th>psv</th>\n",
       "      <td>2.52</td>\n",
       "    </tr>\n",
       "    <tr>\n",
       "      <th>wii</th>\n",
       "      <td>2.08</td>\n",
       "    </tr>\n",
       "    <tr>\n",
       "      <th>wiiu</th>\n",
       "      <td>19.36</td>\n",
       "    </tr>\n",
       "    <tr>\n",
       "      <th>x360</th>\n",
       "      <td>28.30</td>\n",
       "    </tr>\n",
       "    <tr>\n",
       "      <th>xone</th>\n",
       "      <td>81.27</td>\n",
       "    </tr>\n",
       "  </tbody>\n",
       "</table>\n",
       "</div>"
      ],
      "text/plain": [
       "          NA_sales\n",
       "Platform          \n",
       "3ds          22.64\n",
       "pc            7.23\n",
       "ps3          22.05\n",
       "ps4          98.61\n",
       "psp           0.00\n",
       "psv           2.52\n",
       "wii           2.08\n",
       "wiiu         19.36\n",
       "x360         28.30\n",
       "xone         81.27"
      ]
     },
     "execution_count": 55,
     "metadata": {},
     "output_type": "execute_result"
    }
   ],
   "source": [
    "#Creating dataframe with NA data\n",
    "games_data_region_now_NA = games_data_region_now.pivot_table(index=['Platform'], values='NA_sales', aggfunc='sum')\n",
    "games_data_region_now_NA"
   ]
  },
  {
   "cell_type": "code",
   "execution_count": 56,
   "metadata": {},
   "outputs": [
    {
     "data": {
      "text/html": [
       "<div>\n",
       "<style scoped>\n",
       "    .dataframe tbody tr th:only-of-type {\n",
       "        vertical-align: middle;\n",
       "    }\n",
       "\n",
       "    .dataframe tbody tr th {\n",
       "        vertical-align: top;\n",
       "    }\n",
       "\n",
       "    .dataframe thead th {\n",
       "        text-align: right;\n",
       "    }\n",
       "</style>\n",
       "<table border=\"1\" class=\"dataframe\">\n",
       "  <thead>\n",
       "    <tr style=\"text-align: right;\">\n",
       "      <th></th>\n",
       "      <th>EU_sales</th>\n",
       "    </tr>\n",
       "    <tr>\n",
       "      <th>Platform</th>\n",
       "      <th></th>\n",
       "    </tr>\n",
       "  </thead>\n",
       "  <tbody>\n",
       "    <tr>\n",
       "      <th>3ds</th>\n",
       "      <td>16.12</td>\n",
       "    </tr>\n",
       "    <tr>\n",
       "      <th>pc</th>\n",
       "      <td>17.97</td>\n",
       "    </tr>\n",
       "    <tr>\n",
       "      <th>ps3</th>\n",
       "      <td>25.54</td>\n",
       "    </tr>\n",
       "    <tr>\n",
       "      <th>ps4</th>\n",
       "      <td>130.04</td>\n",
       "    </tr>\n",
       "    <tr>\n",
       "      <th>psp</th>\n",
       "      <td>0.00</td>\n",
       "    </tr>\n",
       "    <tr>\n",
       "      <th>psv</th>\n",
       "      <td>3.53</td>\n",
       "    </tr>\n",
       "    <tr>\n",
       "      <th>wii</th>\n",
       "      <td>2.59</td>\n",
       "    </tr>\n",
       "    <tr>\n",
       "      <th>wiiu</th>\n",
       "      <td>13.15</td>\n",
       "    </tr>\n",
       "    <tr>\n",
       "      <th>x360</th>\n",
       "      <td>15.49</td>\n",
       "    </tr>\n",
       "    <tr>\n",
       "      <th>xone</th>\n",
       "      <td>46.25</td>\n",
       "    </tr>\n",
       "  </tbody>\n",
       "</table>\n",
       "</div>"
      ],
      "text/plain": [
       "          EU_sales\n",
       "Platform          \n",
       "3ds          16.12\n",
       "pc           17.97\n",
       "ps3          25.54\n",
       "ps4         130.04\n",
       "psp           0.00\n",
       "psv           3.53\n",
       "wii           2.59\n",
       "wiiu         13.15\n",
       "x360         15.49\n",
       "xone         46.25"
      ]
     },
     "execution_count": 56,
     "metadata": {},
     "output_type": "execute_result"
    }
   ],
   "source": [
    "#Creating dataframe with EU data\n",
    "games_data_region_now_EU = games_data_region_now.pivot_table(index=['Platform'], values='EU_sales', aggfunc='sum')\n",
    "games_data_region_now_EU"
   ]
  },
  {
   "cell_type": "code",
   "execution_count": 57,
   "metadata": {},
   "outputs": [
    {
     "data": {
      "text/html": [
       "<div>\n",
       "<style scoped>\n",
       "    .dataframe tbody tr th:only-of-type {\n",
       "        vertical-align: middle;\n",
       "    }\n",
       "\n",
       "    .dataframe tbody tr th {\n",
       "        vertical-align: top;\n",
       "    }\n",
       "\n",
       "    .dataframe thead th {\n",
       "        text-align: right;\n",
       "    }\n",
       "</style>\n",
       "<table border=\"1\" class=\"dataframe\">\n",
       "  <thead>\n",
       "    <tr style=\"text-align: right;\">\n",
       "      <th></th>\n",
       "      <th>JP_sales</th>\n",
       "    </tr>\n",
       "    <tr>\n",
       "      <th>Platform</th>\n",
       "      <th></th>\n",
       "    </tr>\n",
       "  </thead>\n",
       "  <tbody>\n",
       "    <tr>\n",
       "      <th>3ds</th>\n",
       "      <td>44.24</td>\n",
       "    </tr>\n",
       "    <tr>\n",
       "      <th>pc</th>\n",
       "      <td>0.00</td>\n",
       "    </tr>\n",
       "    <tr>\n",
       "      <th>ps3</th>\n",
       "      <td>11.22</td>\n",
       "    </tr>\n",
       "    <tr>\n",
       "      <th>ps4</th>\n",
       "      <td>15.02</td>\n",
       "    </tr>\n",
       "    <tr>\n",
       "      <th>psp</th>\n",
       "      <td>0.36</td>\n",
       "    </tr>\n",
       "    <tr>\n",
       "      <th>psv</th>\n",
       "      <td>14.54</td>\n",
       "    </tr>\n",
       "    <tr>\n",
       "      <th>wii</th>\n",
       "      <td>0.00</td>\n",
       "    </tr>\n",
       "    <tr>\n",
       "      <th>wiiu</th>\n",
       "      <td>7.31</td>\n",
       "    </tr>\n",
       "    <tr>\n",
       "      <th>x360</th>\n",
       "      <td>0.08</td>\n",
       "    </tr>\n",
       "    <tr>\n",
       "      <th>xone</th>\n",
       "      <td>0.32</td>\n",
       "    </tr>\n",
       "  </tbody>\n",
       "</table>\n",
       "</div>"
      ],
      "text/plain": [
       "          JP_sales\n",
       "Platform          \n",
       "3ds          44.24\n",
       "pc            0.00\n",
       "ps3          11.22\n",
       "ps4          15.02\n",
       "psp           0.36\n",
       "psv          14.54\n",
       "wii           0.00\n",
       "wiiu          7.31\n",
       "x360          0.08\n",
       "xone          0.32"
      ]
     },
     "execution_count": 57,
     "metadata": {},
     "output_type": "execute_result"
    }
   ],
   "source": [
    "#Creating dataframe with EU data\n",
    "games_data_region_now_JP = games_data_region_now.pivot_table(index=['Platform'], values='JP_sales', aggfunc='sum')\n",
    "games_data_region_now_JP"
   ]
  },
  {
   "cell_type": "code",
   "execution_count": 58,
   "metadata": {},
   "outputs": [
    {
     "name": "stdout",
     "output_type": "stream",
     "text": [
      "          NA_sales\n",
      "Platform          \n",
      "3ds          22.64\n",
      "ps3          22.05\n",
      "ps4          98.61\n",
      "x360         28.30\n",
      "xone         81.27\n",
      "          EU_sales\n",
      "Platform          \n",
      "3ds          16.12\n",
      "pc           17.97\n",
      "ps3          25.54\n",
      "ps4         130.04\n",
      "xone         46.25\n",
      "          JP_sales\n",
      "Platform          \n",
      "3ds          44.24\n",
      "ps3          11.22\n",
      "ps4          15.02\n",
      "psv          14.54\n",
      "wiiu          7.31\n"
     ]
    }
   ],
   "source": [
    "#Getting top 5 NA consoles\n",
    "games_data_region_now_NA = games_data_region_now_NA.query('NA_sales > 22')\n",
    "print(games_data_region_now_NA)\n",
    "#Getting top 5 EU consoles\n",
    "games_data_region_now_EU = games_data_region_now_EU.query('EU_sales > 16')\n",
    "print(games_data_region_now_EU)\n",
    "#Getting top 5 JP consoles\n",
    "games_data_region_now_JP = games_data_region_now_JP.query('JP_sales > 7')\n",
    "print(games_data_region_now_JP)"
   ]
  },
  {
   "cell_type": "code",
   "execution_count": 59,
   "metadata": {
    "scrolled": true
   },
   "outputs": [
    {
     "data": {
      "text/html": [
       "<div>\n",
       "<style scoped>\n",
       "    .dataframe tbody tr th:only-of-type {\n",
       "        vertical-align: middle;\n",
       "    }\n",
       "\n",
       "    .dataframe tbody tr th {\n",
       "        vertical-align: top;\n",
       "    }\n",
       "\n",
       "    .dataframe thead th {\n",
       "        text-align: right;\n",
       "    }\n",
       "</style>\n",
       "<table border=\"1\" class=\"dataframe\">\n",
       "  <thead>\n",
       "    <tr style=\"text-align: right;\">\n",
       "      <th></th>\n",
       "      <th>NA_sales</th>\n",
       "      <th>EU_sales</th>\n",
       "      <th>JP_sales</th>\n",
       "    </tr>\n",
       "    <tr>\n",
       "      <th>Platform</th>\n",
       "      <th></th>\n",
       "      <th></th>\n",
       "      <th></th>\n",
       "    </tr>\n",
       "  </thead>\n",
       "  <tbody>\n",
       "    <tr>\n",
       "      <th>3ds</th>\n",
       "      <td>22.64</td>\n",
       "      <td>16.12</td>\n",
       "      <td>44.24</td>\n",
       "    </tr>\n",
       "    <tr>\n",
       "      <th>ps3</th>\n",
       "      <td>22.05</td>\n",
       "      <td>25.54</td>\n",
       "      <td>11.22</td>\n",
       "    </tr>\n",
       "    <tr>\n",
       "      <th>ps4</th>\n",
       "      <td>98.61</td>\n",
       "      <td>130.04</td>\n",
       "      <td>15.02</td>\n",
       "    </tr>\n",
       "    <tr>\n",
       "      <th>x360</th>\n",
       "      <td>28.30</td>\n",
       "      <td>0.00</td>\n",
       "      <td>0.00</td>\n",
       "    </tr>\n",
       "    <tr>\n",
       "      <th>xone</th>\n",
       "      <td>81.27</td>\n",
       "      <td>46.25</td>\n",
       "      <td>0.00</td>\n",
       "    </tr>\n",
       "    <tr>\n",
       "      <th>pc</th>\n",
       "      <td>0.00</td>\n",
       "      <td>17.97</td>\n",
       "      <td>0.00</td>\n",
       "    </tr>\n",
       "    <tr>\n",
       "      <th>psv</th>\n",
       "      <td>0.00</td>\n",
       "      <td>0.00</td>\n",
       "      <td>14.54</td>\n",
       "    </tr>\n",
       "    <tr>\n",
       "      <th>wiiu</th>\n",
       "      <td>0.00</td>\n",
       "      <td>0.00</td>\n",
       "      <td>7.31</td>\n",
       "    </tr>\n",
       "  </tbody>\n",
       "</table>\n",
       "</div>"
      ],
      "text/plain": [
       "          NA_sales  EU_sales  JP_sales\n",
       "Platform                              \n",
       "3ds          22.64     16.12     44.24\n",
       "ps3          22.05     25.54     11.22\n",
       "ps4          98.61    130.04     15.02\n",
       "x360         28.30      0.00      0.00\n",
       "xone         81.27     46.25      0.00\n",
       "pc            0.00     17.97      0.00\n",
       "psv           0.00      0.00     14.54\n",
       "wiiu          0.00      0.00      7.31"
      ]
     },
     "execution_count": 59,
     "metadata": {},
     "output_type": "execute_result"
    }
   ],
   "source": [
    "#Merging tables\n",
    "data_frames = [games_data_region_now_NA, games_data_region_now_EU, games_data_region_now_JP]\n",
    "regional_sales = reduce(lambda  left,right: pd.merge(left,right,on=['Platform'],\n",
    "                                            how='outer'), data_frames)\n",
    "regional_sales.fillna(0)"
   ]
  },
  {
   "cell_type": "code",
   "execution_count": 60,
   "metadata": {},
   "outputs": [
    {
     "data": {
      "image/png": "[encoded data removed]",
      "text/plain": [
       "<Figure size 432x288 with 1 Axes>"
      ]
     },
     "metadata": {
      "needs_background": "light"
     },
     "output_type": "display_data"
    }
   ],
   "source": [
    "#Bar graphs showing the sales of videogames of 5 top consoles per region\n",
    "regional_sales.plot(kind='bar')\n",
    "plt.title(\"Top 5 Platforms by Region from 2014-2016\")\n",
    "plt.show()"
   ]
  },
  {
   "cell_type": "markdown",
   "metadata": {},
   "source": [
    "- PS3 and PS4 sales in NA and EU surpass those in JP.\n",
    "- Japan's most popular console is 3DS; beats NA and EU in sales.\n",
    "- NA and EU buy mostly PS4 games, followed by XOne.\n",
    "- Only Japan has PSV and WiiU under their Top 5 consoles, but doesn't have X360 nor XOne\n",
    "- PC is only popular in Europe"
   ]
  },
  {
   "cell_type": "markdown",
   "metadata": {},
   "source": [
    "<a id='4.2heading'></a>"
   ]
  },
  {
   "cell_type": "markdown",
   "metadata": {},
   "source": [
    "### Top Five Genres by Region"
   ]
  },
  {
   "cell_type": "code",
   "execution_count": 61,
   "metadata": {},
   "outputs": [
    {
     "data": {
      "text/plain": [
       "2015    606\n",
       "2014    581\n",
       "2016    502\n",
       "Name: Year_of_Release, dtype: int64"
      ]
     },
     "execution_count": 61,
     "metadata": {},
     "output_type": "execute_result"
    }
   ],
   "source": [
    "#Creating new dataframe containing data from 2014-2016\n",
    "games_data_genre_now = games_data.query('Year_of_Release >= 2014')\n",
    "games_data_genre_now['Year_of_Release'].value_counts()"
   ]
  },
  {
   "cell_type": "code",
   "execution_count": 62,
   "metadata": {},
   "outputs": [
    {
     "data": {
      "text/html": [
       "<div>\n",
       "<style scoped>\n",
       "    .dataframe tbody tr th:only-of-type {\n",
       "        vertical-align: middle;\n",
       "    }\n",
       "\n",
       "    .dataframe tbody tr th {\n",
       "        vertical-align: top;\n",
       "    }\n",
       "\n",
       "    .dataframe thead th {\n",
       "        text-align: right;\n",
       "    }\n",
       "</style>\n",
       "<table border=\"1\" class=\"dataframe\">\n",
       "  <thead>\n",
       "    <tr style=\"text-align: right;\">\n",
       "      <th></th>\n",
       "      <th>NA_sales</th>\n",
       "    </tr>\n",
       "    <tr>\n",
       "      <th>Genre</th>\n",
       "      <th></th>\n",
       "    </tr>\n",
       "  </thead>\n",
       "  <tbody>\n",
       "    <tr>\n",
       "      <th>action</th>\n",
       "      <td>72.53</td>\n",
       "    </tr>\n",
       "    <tr>\n",
       "      <th>adventure</th>\n",
       "      <td>5.64</td>\n",
       "    </tr>\n",
       "    <tr>\n",
       "      <th>fighting</th>\n",
       "      <td>12.43</td>\n",
       "    </tr>\n",
       "    <tr>\n",
       "      <th>misc</th>\n",
       "      <td>15.05</td>\n",
       "    </tr>\n",
       "    <tr>\n",
       "      <th>platform</th>\n",
       "      <td>6.79</td>\n",
       "    </tr>\n",
       "    <tr>\n",
       "      <th>puzzle</th>\n",
       "      <td>0.65</td>\n",
       "    </tr>\n",
       "    <tr>\n",
       "      <th>racing</th>\n",
       "      <td>8.74</td>\n",
       "    </tr>\n",
       "    <tr>\n",
       "      <th>role-playing</th>\n",
       "      <td>33.47</td>\n",
       "    </tr>\n",
       "    <tr>\n",
       "      <th>shooter</th>\n",
       "      <td>79.02</td>\n",
       "    </tr>\n",
       "    <tr>\n",
       "      <th>simulation</th>\n",
       "      <td>2.63</td>\n",
       "    </tr>\n",
       "    <tr>\n",
       "      <th>sports</th>\n",
       "      <td>46.13</td>\n",
       "    </tr>\n",
       "    <tr>\n",
       "      <th>strategy</th>\n",
       "      <td>0.98</td>\n",
       "    </tr>\n",
       "  </tbody>\n",
       "</table>\n",
       "</div>"
      ],
      "text/plain": [
       "              NA_sales\n",
       "Genre                 \n",
       "action           72.53\n",
       "adventure         5.64\n",
       "fighting         12.43\n",
       "misc             15.05\n",
       "platform          6.79\n",
       "puzzle            0.65\n",
       "racing            8.74\n",
       "role-playing     33.47\n",
       "shooter          79.02\n",
       "simulation        2.63\n",
       "sports           46.13\n",
       "strategy          0.98"
      ]
     },
     "execution_count": 62,
     "metadata": {},
     "output_type": "execute_result"
    }
   ],
   "source": [
    "#Creating dataframe with NA data\n",
    "games_data_genre_now_NA = games_data_region_now.pivot_table(index=['Genre'], values='NA_sales', aggfunc='sum')\n",
    "games_data_genre_now_NA"
   ]
  },
  {
   "cell_type": "code",
   "execution_count": 63,
   "metadata": {},
   "outputs": [
    {
     "data": {
      "text/html": [
       "<div>\n",
       "<style scoped>\n",
       "    .dataframe tbody tr th:only-of-type {\n",
       "        vertical-align: middle;\n",
       "    }\n",
       "\n",
       "    .dataframe tbody tr th {\n",
       "        vertical-align: top;\n",
       "    }\n",
       "\n",
       "    .dataframe thead th {\n",
       "        text-align: right;\n",
       "    }\n",
       "</style>\n",
       "<table border=\"1\" class=\"dataframe\">\n",
       "  <thead>\n",
       "    <tr style=\"text-align: right;\">\n",
       "      <th></th>\n",
       "      <th>EU_sales</th>\n",
       "    </tr>\n",
       "    <tr>\n",
       "      <th>Genre</th>\n",
       "      <th></th>\n",
       "    </tr>\n",
       "  </thead>\n",
       "  <tbody>\n",
       "    <tr>\n",
       "      <th>action</th>\n",
       "      <td>74.68</td>\n",
       "    </tr>\n",
       "    <tr>\n",
       "      <th>adventure</th>\n",
       "      <td>6.49</td>\n",
       "    </tr>\n",
       "    <tr>\n",
       "      <th>fighting</th>\n",
       "      <td>6.69</td>\n",
       "    </tr>\n",
       "    <tr>\n",
       "      <th>misc</th>\n",
       "      <td>12.86</td>\n",
       "    </tr>\n",
       "    <tr>\n",
       "      <th>platform</th>\n",
       "      <td>6.80</td>\n",
       "    </tr>\n",
       "    <tr>\n",
       "      <th>puzzle</th>\n",
       "      <td>0.52</td>\n",
       "    </tr>\n",
       "    <tr>\n",
       "      <th>racing</th>\n",
       "      <td>14.13</td>\n",
       "    </tr>\n",
       "    <tr>\n",
       "      <th>role-playing</th>\n",
       "      <td>28.17</td>\n",
       "    </tr>\n",
       "    <tr>\n",
       "      <th>shooter</th>\n",
       "      <td>65.52</td>\n",
       "    </tr>\n",
       "    <tr>\n",
       "      <th>simulation</th>\n",
       "      <td>7.30</td>\n",
       "    </tr>\n",
       "    <tr>\n",
       "      <th>sports</th>\n",
       "      <td>45.73</td>\n",
       "    </tr>\n",
       "    <tr>\n",
       "      <th>strategy</th>\n",
       "      <td>1.79</td>\n",
       "    </tr>\n",
       "  </tbody>\n",
       "</table>\n",
       "</div>"
      ],
      "text/plain": [
       "              EU_sales\n",
       "Genre                 \n",
       "action           74.68\n",
       "adventure         6.49\n",
       "fighting          6.69\n",
       "misc             12.86\n",
       "platform          6.80\n",
       "puzzle            0.52\n",
       "racing           14.13\n",
       "role-playing     28.17\n",
       "shooter          65.52\n",
       "simulation        7.30\n",
       "sports           45.73\n",
       "strategy          1.79"
      ]
     },
     "execution_count": 63,
     "metadata": {},
     "output_type": "execute_result"
    }
   ],
   "source": [
    "#Creating dataframe with EU data\n",
    "games_data_genre_now_EU = games_data_region_now.pivot_table(index=['Genre'], values='EU_sales', aggfunc='sum')\n",
    "games_data_genre_now_EU"
   ]
  },
  {
   "cell_type": "code",
   "execution_count": 64,
   "metadata": {},
   "outputs": [
    {
     "data": {
      "text/html": [
       "<div>\n",
       "<style scoped>\n",
       "    .dataframe tbody tr th:only-of-type {\n",
       "        vertical-align: middle;\n",
       "    }\n",
       "\n",
       "    .dataframe tbody tr th {\n",
       "        vertical-align: top;\n",
       "    }\n",
       "\n",
       "    .dataframe thead th {\n",
       "        text-align: right;\n",
       "    }\n",
       "</style>\n",
       "<table border=\"1\" class=\"dataframe\">\n",
       "  <thead>\n",
       "    <tr style=\"text-align: right;\">\n",
       "      <th></th>\n",
       "      <th>JP_sales</th>\n",
       "    </tr>\n",
       "    <tr>\n",
       "      <th>Genre</th>\n",
       "      <th></th>\n",
       "    </tr>\n",
       "  </thead>\n",
       "  <tbody>\n",
       "    <tr>\n",
       "      <th>action</th>\n",
       "      <td>29.58</td>\n",
       "    </tr>\n",
       "    <tr>\n",
       "      <th>adventure</th>\n",
       "      <td>3.60</td>\n",
       "    </tr>\n",
       "    <tr>\n",
       "      <th>fighting</th>\n",
       "      <td>6.37</td>\n",
       "    </tr>\n",
       "    <tr>\n",
       "      <th>misc</th>\n",
       "      <td>5.61</td>\n",
       "    </tr>\n",
       "    <tr>\n",
       "      <th>platform</th>\n",
       "      <td>2.69</td>\n",
       "    </tr>\n",
       "    <tr>\n",
       "      <th>puzzle</th>\n",
       "      <td>0.93</td>\n",
       "    </tr>\n",
       "    <tr>\n",
       "      <th>racing</th>\n",
       "      <td>1.76</td>\n",
       "    </tr>\n",
       "    <tr>\n",
       "      <th>role-playing</th>\n",
       "      <td>31.16</td>\n",
       "    </tr>\n",
       "    <tr>\n",
       "      <th>shooter</th>\n",
       "      <td>4.87</td>\n",
       "    </tr>\n",
       "    <tr>\n",
       "      <th>simulation</th>\n",
       "      <td>2.31</td>\n",
       "    </tr>\n",
       "    <tr>\n",
       "      <th>sports</th>\n",
       "      <td>3.26</td>\n",
       "    </tr>\n",
       "    <tr>\n",
       "      <th>strategy</th>\n",
       "      <td>0.95</td>\n",
       "    </tr>\n",
       "  </tbody>\n",
       "</table>\n",
       "</div>"
      ],
      "text/plain": [
       "              JP_sales\n",
       "Genre                 \n",
       "action           29.58\n",
       "adventure         3.60\n",
       "fighting          6.37\n",
       "misc              5.61\n",
       "platform          2.69\n",
       "puzzle            0.93\n",
       "racing            1.76\n",
       "role-playing     31.16\n",
       "shooter           4.87\n",
       "simulation        2.31\n",
       "sports            3.26\n",
       "strategy          0.95"
      ]
     },
     "execution_count": 64,
     "metadata": {},
     "output_type": "execute_result"
    }
   ],
   "source": [
    "#Creating dataframe with JP data\n",
    "games_data_genre_now_JP = games_data_region_now.pivot_table(index=['Genre'], values='JP_sales', aggfunc='sum')\n",
    "games_data_genre_now_JP"
   ]
  },
  {
   "cell_type": "code",
   "execution_count": 65,
   "metadata": {},
   "outputs": [
    {
     "name": "stdout",
     "output_type": "stream",
     "text": [
      "              NA_sales\n",
      "Genre                 \n",
      "action           72.53\n",
      "misc             15.05\n",
      "role-playing     33.47\n",
      "shooter          79.02\n",
      "sports           46.13\n",
      "              EU_sales\n",
      "Genre                 \n",
      "action           74.68\n",
      "racing           14.13\n",
      "role-playing     28.17\n",
      "shooter          65.52\n",
      "sports           45.73\n",
      "              JP_sales\n",
      "Genre                 \n",
      "action           29.58\n",
      "fighting          6.37\n",
      "misc              5.61\n",
      "role-playing     31.16\n",
      "shooter           4.87\n"
     ]
    }
   ],
   "source": [
    "#Getting top 5 NA genres\n",
    "games_data_genre_now_NA = games_data_genre_now_NA.query('NA_sales > 15')\n",
    "print(games_data_genre_now_NA)\n",
    "#Getting top 5 EU consoles\n",
    "games_data_genre_now_EU = games_data_genre_now_EU.query('EU_sales > 14')\n",
    "print(games_data_genre_now_EU)\n",
    "#Getting top 5 JP consoles\n",
    "games_data_genre_now_JP = games_data_genre_now_JP.query('JP_sales > 4')\n",
    "print(games_data_genre_now_JP)"
   ]
  },
  {
   "cell_type": "code",
   "execution_count": 66,
   "metadata": {},
   "outputs": [
    {
     "data": {
      "text/html": [
       "<div>\n",
       "<style scoped>\n",
       "    .dataframe tbody tr th:only-of-type {\n",
       "        vertical-align: middle;\n",
       "    }\n",
       "\n",
       "    .dataframe tbody tr th {\n",
       "        vertical-align: top;\n",
       "    }\n",
       "\n",
       "    .dataframe thead th {\n",
       "        text-align: right;\n",
       "    }\n",
       "</style>\n",
       "<table border=\"1\" class=\"dataframe\">\n",
       "  <thead>\n",
       "    <tr style=\"text-align: right;\">\n",
       "      <th></th>\n",
       "      <th>NA_sales</th>\n",
       "      <th>EU_sales</th>\n",
       "      <th>JP_sales</th>\n",
       "    </tr>\n",
       "    <tr>\n",
       "      <th>Genre</th>\n",
       "      <th></th>\n",
       "      <th></th>\n",
       "      <th></th>\n",
       "    </tr>\n",
       "  </thead>\n",
       "  <tbody>\n",
       "    <tr>\n",
       "      <th>action</th>\n",
       "      <td>72.53</td>\n",
       "      <td>74.68</td>\n",
       "      <td>29.58</td>\n",
       "    </tr>\n",
       "    <tr>\n",
       "      <th>misc</th>\n",
       "      <td>15.05</td>\n",
       "      <td>0.00</td>\n",
       "      <td>5.61</td>\n",
       "    </tr>\n",
       "    <tr>\n",
       "      <th>role-playing</th>\n",
       "      <td>33.47</td>\n",
       "      <td>28.17</td>\n",
       "      <td>31.16</td>\n",
       "    </tr>\n",
       "    <tr>\n",
       "      <th>shooter</th>\n",
       "      <td>79.02</td>\n",
       "      <td>65.52</td>\n",
       "      <td>4.87</td>\n",
       "    </tr>\n",
       "    <tr>\n",
       "      <th>sports</th>\n",
       "      <td>46.13</td>\n",
       "      <td>45.73</td>\n",
       "      <td>0.00</td>\n",
       "    </tr>\n",
       "    <tr>\n",
       "      <th>racing</th>\n",
       "      <td>0.00</td>\n",
       "      <td>14.13</td>\n",
       "      <td>0.00</td>\n",
       "    </tr>\n",
       "    <tr>\n",
       "      <th>fighting</th>\n",
       "      <td>0.00</td>\n",
       "      <td>0.00</td>\n",
       "      <td>6.37</td>\n",
       "    </tr>\n",
       "  </tbody>\n",
       "</table>\n",
       "</div>"
      ],
      "text/plain": [
       "              NA_sales  EU_sales  JP_sales\n",
       "Genre                                     \n",
       "action           72.53     74.68     29.58\n",
       "misc             15.05      0.00      5.61\n",
       "role-playing     33.47     28.17     31.16\n",
       "shooter          79.02     65.52      4.87\n",
       "sports           46.13     45.73      0.00\n",
       "racing            0.00     14.13      0.00\n",
       "fighting          0.00      0.00      6.37"
      ]
     },
     "execution_count": 66,
     "metadata": {},
     "output_type": "execute_result"
    }
   ],
   "source": [
    "#Merging tables\n",
    "data_frames = [games_data_genre_now_NA, games_data_genre_now_EU, games_data_genre_now_JP]\n",
    "genre_sales = reduce(lambda left,right: pd.merge(left,right,on=['Genre'],\n",
    "                                            how='outer'), data_frames)\n",
    "genre_sales.fillna(0)"
   ]
  },
  {
   "cell_type": "code",
   "execution_count": 67,
   "metadata": {},
   "outputs": [
    {
     "data": {
      "image/png": "[encoded data removed]",
      "text/plain": [
       "<Figure size 432x288 with 1 Axes>"
      ]
     },
     "metadata": {
      "needs_background": "light"
     },
     "output_type": "display_data"
    }
   ],
   "source": [
    "#Bar graphs showing the sales of videogames of 5 top genres per region\n",
    "genre_sales.plot(kind='bar')\n",
    "plt.title(\"Top 5 Genres by Region from 2014-2016\")\n",
    "plt.show()"
   ]
  },
  {
   "cell_type": "markdown",
   "metadata": {},
   "source": [
    "- From the graph above, we see that action, shooter and sports games are the most popular in NA and EU.\n",
    "- Role playing and action games are most Japan's most popular genres."
   ]
  },
  {
   "cell_type": "markdown",
   "metadata": {},
   "source": [
    "<a id='4.3heading'></a>"
   ]
  },
  {
   "cell_type": "markdown",
   "metadata": {},
   "source": [
    "### ESRB Ratings and Sales by Region"
   ]
  },
  {
   "cell_type": "code",
   "execution_count": 68,
   "metadata": {},
   "outputs": [
    {
     "data": {
      "text/plain": [
       "2015    606\n",
       "2014    581\n",
       "2016    502\n",
       "Name: Year_of_Release, dtype: int64"
      ]
     },
     "execution_count": 68,
     "metadata": {},
     "output_type": "execute_result"
    }
   ],
   "source": [
    "#Creating new dataframe containing data from 2014-2016\n",
    "games_data_ESRB_now = games_data.query('Year_of_Release >= 2014')\n",
    "games_data_ESRB_now['Year_of_Release'].value_counts()"
   ]
  },
  {
   "cell_type": "code",
   "execution_count": 69,
   "metadata": {},
   "outputs": [
    {
     "data": {
      "text/html": [
       "<div>\n",
       "<style scoped>\n",
       "    .dataframe tbody tr th:only-of-type {\n",
       "        vertical-align: middle;\n",
       "    }\n",
       "\n",
       "    .dataframe tbody tr th {\n",
       "        vertical-align: top;\n",
       "    }\n",
       "\n",
       "    .dataframe thead th {\n",
       "        text-align: right;\n",
       "    }\n",
       "</style>\n",
       "<table border=\"1\" class=\"dataframe\">\n",
       "  <thead>\n",
       "    <tr style=\"text-align: right;\">\n",
       "      <th></th>\n",
       "      <th>Critic_Score</th>\n",
       "      <th>EU_sales</th>\n",
       "      <th>JP_sales</th>\n",
       "      <th>NA_sales</th>\n",
       "    </tr>\n",
       "  </thead>\n",
       "  <tbody>\n",
       "    <tr>\n",
       "      <th>0</th>\n",
       "      <td>19.0</td>\n",
       "      <td>0.06</td>\n",
       "      <td>0.0</td>\n",
       "      <td>0.04</td>\n",
       "    </tr>\n",
       "    <tr>\n",
       "      <th>1</th>\n",
       "      <td>20.0</td>\n",
       "      <td>0.05</td>\n",
       "      <td>0.0</td>\n",
       "      <td>0.03</td>\n",
       "    </tr>\n",
       "    <tr>\n",
       "      <th>2</th>\n",
       "      <td>25.0</td>\n",
       "      <td>0.05</td>\n",
       "      <td>0.0</td>\n",
       "      <td>0.00</td>\n",
       "    </tr>\n",
       "    <tr>\n",
       "      <th>3</th>\n",
       "      <td>26.0</td>\n",
       "      <td>0.01</td>\n",
       "      <td>0.0</td>\n",
       "      <td>0.01</td>\n",
       "    </tr>\n",
       "    <tr>\n",
       "      <th>4</th>\n",
       "      <td>31.0</td>\n",
       "      <td>0.02</td>\n",
       "      <td>0.0</td>\n",
       "      <td>0.00</td>\n",
       "    </tr>\n",
       "  </tbody>\n",
       "</table>\n",
       "</div>"
      ],
      "text/plain": [
       "   Critic_Score  EU_sales  JP_sales  NA_sales\n",
       "0          19.0      0.06       0.0      0.04\n",
       "1          20.0      0.05       0.0      0.03\n",
       "2          25.0      0.05       0.0      0.00\n",
       "3          26.0      0.01       0.0      0.01\n",
       "4          31.0      0.02       0.0      0.00"
      ]
     },
     "execution_count": 69,
     "metadata": {},
     "output_type": "execute_result"
    }
   ],
   "source": [
    "#Creating dataframe with regional sales based on Critic_Score\n",
    "games_data_ESRB_nows = games_data_ESRB_now.pivot_table(index=['Critic_Score'], values=['NA_sales','EU_sales','JP_sales'], aggfunc='sum')\n",
    "games_data_ESRB_nows = games_data_ESRB_nows.reset_index()\n",
    "games_data_ESRB_nows.head()"
   ]
  },
  {
   "cell_type": "code",
   "execution_count": 70,
   "metadata": {},
   "outputs": [
    {
     "name": "stdout",
     "output_type": "stream",
     "text": [
      "              Critic_Score  EU_sales  JP_sales  NA_sales\n",
      "Critic_Score      1.000000  0.660253  0.512832  0.662878\n",
      "EU_sales          0.660253  1.000000  0.577245  0.915280\n",
      "JP_sales          0.512832  0.577245  1.000000  0.709922\n",
      "NA_sales          0.662878  0.915280  0.709922  1.000000\n"
     ]
    },
    {
     "data": {
      "image/png": "[encoded data removed]",
      "text/plain": [
       "<Figure size 648x648 with 16 Axes>"
      ]
     },
     "metadata": {
      "needs_background": "light"
     },
     "output_type": "display_data"
    }
   ],
   "source": [
    "#Making scatterplots and finding correlations\n",
    "print(games_data_ESRB_nows.corr())\n",
    "pd.plotting.scatter_matrix(games_data_ESRB_nows, figsize=(9, 9))\n",
    "plt.show()"
   ]
  },
  {
   "cell_type": "markdown",
   "metadata": {},
   "source": [
    "- There is a high positive correlation of 0.66 between Critic_Score and NA_sales, meaning that as Critic_Score increases, NA_sales increases.\n",
    "- There is a high positive correlation of 0.66 between Critic_Score and EU_sales, meaning that as Critic_Score increases, EU_sales increases.\n",
    "- There is a relatively high positive correlation of 0.51 between Critic_Score and JP_sales, meaning that as Critic_Score increases, JP_sales increases."
   ]
  },
  {
   "cell_type": "markdown",
   "metadata": {},
   "source": [
    "<a id='5heading'></a>"
   ]
  },
  {
   "cell_type": "markdown",
   "metadata": {},
   "source": [
    "## Testing Hypothesis"
   ]
  },
  {
   "cell_type": "markdown",
   "metadata": {},
   "source": [
    "<a id='5.1heading'></a>"
   ]
  },
  {
   "cell_type": "markdown",
   "metadata": {},
   "source": [
    "### Average user ratings of the Xbox One and PC platforms are the same"
   ]
  },
  {
   "cell_type": "code",
   "execution_count": 71,
   "metadata": {},
   "outputs": [
    {
     "name": "stdout",
     "output_type": "stream",
     "text": [
      "xone    247\n",
      "Name: Platform, dtype: int64\n",
      "pc    957\n",
      "Name: Platform, dtype: int64\n"
     ]
    }
   ],
   "source": [
    "#Query for XOne and PC platforms\n",
    "games_data_xone = games_data.query('Platform == \"xone\"')\n",
    "print(games_data_xone['Platform'].value_counts())\n",
    "games_data_pc = games_data.query('Platform == \"pc\"')\n",
    "print(games_data_pc['Platform'].value_counts())"
   ]
  },
  {
   "cell_type": "code",
   "execution_count": 72,
   "metadata": {},
   "outputs": [
    {
     "name": "stdout",
     "output_type": "stream",
     "text": [
      "xone    182\n",
      "Name: Platform, dtype: int64\n",
      "pc    755\n",
      "Name: Platform, dtype: int64\n"
     ]
    }
   ],
   "source": [
    "#Drop nulls\n",
    "games_data_xone = games_data_xone.dropna(subset=['User_Score'])\n",
    "print(games_data_xone['Platform'].value_counts())\n",
    "games_data_pc = games_data_pc.dropna(subset=['User_Score'])\n",
    "print(games_data_pc['Platform'].value_counts())"
   ]
  },
  {
   "cell_type": "code",
   "execution_count": 73,
   "metadata": {},
   "outputs": [
    {
     "name": "stdout",
     "output_type": "stream",
     "text": [
      "XOne user score mean: 65.21428571428571\n",
      "PC user score mean: 70.65960264900663\n",
      "XOne user score variance: 189.65188383045532\n",
      "PC user score variance: 234.61128196131727\n"
     ]
    }
   ],
   "source": [
    "print('XOne user score mean:', games_data_xone['User_Score'].mean())\n",
    "print('PC user score mean:', games_data_pc['User_Score'].mean())\n",
    "print('XOne user score variance:', np.var(games_data_xone['User_Score']))\n",
    "print('PC user score variance:', np.var(games_data_pc['User_Score']))"
   ]
  },
  {
   "cell_type": "markdown",
   "metadata": {},
   "source": [
    "<ins>Experiment<ins/>\n",
    "\n",
    "Null Hypothesis H0: Average user ratings of the Xbox One and PC platforms are the same\n",
    "\n",
    "Alternative Hypothesis H1: Average user ratings of the Xbox One and PC platforms differs"
   ]
  },
  {
   "cell_type": "code",
   "execution_count": 74,
   "metadata": {},
   "outputs": [
    {
     "name": "stdout",
     "output_type": "stream",
     "text": [
      "p-value: 4.53858029637659e-06\n",
      "We reject the null hypothesis\n"
     ]
    }
   ],
   "source": [
    "#Experiment\n",
    "alpha = 0.05 #set a critical statistical significance level\n",
    "\n",
    "results = st.ttest_ind(games_data_xone['User_Score'], games_data_pc['User_Score'], equal_var = False) # test the hypothesis that the means of the two independent populations are equal\n",
    "\n",
    "print('p-value:', results.pvalue) #print the p-value\n",
    "\n",
    "if results.pvalue < alpha:\n",
    "    print(\"We reject the null hypothesis\")\n",
    "else:\n",
    "    print(\"We can't reject the null hypothesis\")"
   ]
  },
  {
   "cell_type": "markdown",
   "metadata": {},
   "source": [
    "We've used the Hypothesis on the Equality of Two Population Means because we need to compare the means of two different statistical populations.\n",
    "\n",
    "Our analysis suggests that User_Score for XOne and PC does differ because the p-value is such a miniscule amount lower than our 0.05 significance level.\n",
    "\n",
    "We set the significance level at 0.05 because that level indicates a 5% risk of concluding that a difference exists when there is no actual difference. This level has been traditionally used in statistics. Additionally, we've set equal_var as False because the variances of both columns are not equal to each other."
   ]
  },
  {
   "cell_type": "markdown",
   "metadata": {},
   "source": [
    "<a id='5.2heading'></a>"
   ]
  },
  {
   "cell_type": "markdown",
   "metadata": {},
   "source": [
    "### Average user ratings for the Action and Sports genres are the same"
   ]
  },
  {
   "cell_type": "code",
   "execution_count": 75,
   "metadata": {},
   "outputs": [
    {
     "name": "stdout",
     "output_type": "stream",
     "text": [
      "action    3307\n",
      "Name: Genre, dtype: int64\n",
      "sports    2305\n",
      "Name: Genre, dtype: int64\n"
     ]
    }
   ],
   "source": [
    "#Query for Action and Sports genres\n",
    "games_data_action = games_data.query('Genre == \"action\"')\n",
    "print(games_data_action['Genre'].value_counts())\n",
    "games_data_sports = games_data.query('Genre == \"sports\"')\n",
    "print(games_data_sports['Genre'].value_counts())"
   ]
  },
  {
   "cell_type": "code",
   "execution_count": 76,
   "metadata": {},
   "outputs": [
    {
     "name": "stdout",
     "output_type": "stream",
     "text": [
      "action    1796\n",
      "Name: Genre, dtype: int64\n",
      "sports    1080\n",
      "Name: Genre, dtype: int64\n"
     ]
    }
   ],
   "source": [
    "#Drop nulls\n",
    "games_data_action = games_data_action.dropna(subset=['User_Score'])\n",
    "print(games_data_action['Genre'].value_counts())\n",
    "games_data_sports = games_data_sports.dropna(subset=['User_Score'])\n",
    "print(games_data_sports['Genre'].value_counts())"
   ]
  },
  {
   "cell_type": "code",
   "execution_count": 77,
   "metadata": {},
   "outputs": [
    {
     "name": "stdout",
     "output_type": "stream",
     "text": [
      "Action user score mean: 70.58129175946547\n",
      "Sports user score mean: 69.52777777777777\n",
      "Action user score variance: 202.63648741821675\n",
      "Sports user score variance: 262.1103395061723\n"
     ]
    }
   ],
   "source": [
    "print('Action user score mean:', games_data_action['User_Score'].mean())\n",
    "print('Sports user score mean:', games_data_sports['User_Score'].mean())\n",
    "print('Action user score variance:', np.var(games_data_action['User_Score']))\n",
    "print('Sports user score variance:', np.var(games_data_sports['User_Score']))"
   ]
  },
  {
   "cell_type": "code",
   "execution_count": 78,
   "metadata": {},
   "outputs": [
    {
     "name": "stdout",
     "output_type": "stream",
     "text": [
      "p-value: 0.07751671595536654\n",
      "We can't reject the null hypothesis\n"
     ]
    }
   ],
   "source": [
    "#Experiment\n",
    "alpha = 0.05 #set a critical statistical significance level\n",
    "\n",
    "results = st.ttest_ind(games_data_action['User_Score'], games_data_sports['User_Score'], equal_var = False) # test the hypothesis that the means of the two independent populations are equal\n",
    "\n",
    "print('p-value:', results.pvalue) #print the p-value\n",
    "\n",
    "if results.pvalue < alpha:\n",
    "    print(\"We reject the null hypothesis\")\n",
    "else:\n",
    "    print(\"We can't reject the null hypothesis\")"
   ]
  },
  {
   "cell_type": "markdown",
   "metadata": {},
   "source": [
    "We've used the Hypothesis on the Equality of Two Population Means because we need to compare the means of two different statistical populations.\n",
    "\n",
    "Our analysis suggests that user score for Action games is the same as Sports games because the p-value is larger than our 0.05 significance level.\n",
    "\n",
    "We set the significance level at 0.05 because that level indicates a 5% risk of concluding that a difference exists when there is no actual difference. This level has been traditionally used in statistics. Additionally, we've set equal_var as False because the variances of both columns are not equal to each other."
   ]
  },
  {
   "cell_type": "markdown",
   "metadata": {},
   "source": [
    "<a id='6heading'></a>"
   ]
  },
  {
   "cell_type": "markdown",
   "metadata": {},
   "source": [
    "## General Conclusion"
   ]
  },
  {
   "cell_type": "markdown",
   "metadata": {},
   "source": [
    "With the help of bar graphs, we saw that total games released has remained consitent since 2014 and there is no reason to believe that 2017 will be any different. 2014 marks the inception of next generation consoles PS4 and XOne.\n",
    "\n",
    "It takes about 5-6 years for new platforms to appear and old ones to fade. PS4 and XOne saw an increasing trend in games sales from 2014-2015, unlike the rest, and have the most sales in 2014, 2015 and 2016. The data indicates that the PS4 and XOne consoles that will have the most sales for 2017 because their product lifetime has only started in 2014.\n",
    "\n",
    "After taking these points into consideration, we worked data from 2014 and later. We selected PS4, XOne, 3DS and PC as potentially profitable platforms since they had the biggest market shares. The differences in total sales are significant when comparing PS4 and XOne to 3DS and PC. PS4 and XOne has larger total sales than 3DS and PC as depicted in their interquartile ranges and averages.\n",
    "\n",
    "Moreover, there is a significant positive correlation of of 0.4 between critic_score and total_sales. This means that critic_score is a potential indicator of whether or not a game has high total_sales.\n",
    "\n",
    "We can't generalize how profitable a game genre is simply based on total_sales. Action games happen to have the most total_sales, but are placed sixth in average total sales. \n",
    "\n",
    "----------------------o\n",
    "\n",
    "The typical NA and EU customer buy mostlys PS4 games, followed by XOne. JP's most popular console is 3DS; beats NA and EU in sales. PC is only popular in EU.\n",
    "\n",
    "The typical NA and EU customer buys action, shooter and sports games. Role playing and action games are most Japan's most popular genres.\n",
    "\n",
    "In the three regional markets, there is a high positive correlation between Critic_Score and sales, meaning that as Critic_Score increases, sales increases.\n",
    "\n",
    "----------------------o\n",
    "\n",
    "Our experminets suggests that User_Score for XOne and PC does differ and that User_Score for Action games is the same as Sports games."
   ]
  }
 ],
 "metadata": {
  "ExecuteTimeLog": [
   {
    "duration": 1347,
    "start_time": "2021-06-17T22:35:26.634Z"
   },
   {
    "duration": 50,
    "start_time": "2021-06-17T22:35:27.986Z"
   },
   {
    "duration": 60,
    "start_time": "2021-06-17T22:35:28.039Z"
   },
   {
    "duration": 14,
    "start_time": "2021-06-17T22:35:28.102Z"
   },
   {
    "duration": 15,
    "start_time": "2021-06-17T22:35:28.119Z"
   },
   {
    "duration": 50,
    "start_time": "2021-06-17T22:35:28.137Z"
   },
   {
    "duration": 19,
    "start_time": "2021-06-17T22:35:28.190Z"
   },
   {
    "duration": 24,
    "start_time": "2021-06-17T22:35:28.213Z"
   },
   {
    "duration": 47,
    "start_time": "2021-06-17T22:35:28.240Z"
   },
   {
    "duration": 6,
    "start_time": "2021-06-17T22:35:28.290Z"
   },
   {
    "duration": 32,
    "start_time": "2021-06-17T22:35:28.298Z"
   },
   {
    "duration": 6,
    "start_time": "2021-06-17T22:35:28.333Z"
   },
   {
    "duration": 45,
    "start_time": "2021-06-17T22:35:28.341Z"
   },
   {
    "duration": 7,
    "start_time": "2021-06-17T22:35:28.389Z"
   },
   {
    "duration": 23,
    "start_time": "2021-06-17T22:35:28.398Z"
   },
   {
    "duration": 19,
    "start_time": "2021-06-17T22:35:28.423Z"
   },
   {
    "duration": 43,
    "start_time": "2021-06-17T22:35:28.445Z"
   },
   {
    "duration": 10,
    "start_time": "2021-06-17T22:35:28.491Z"
   },
   {
    "duration": 13,
    "start_time": "2021-06-17T22:35:28.503Z"
   },
   {
    "duration": 7,
    "start_time": "2021-06-17T22:35:28.519Z"
   },
   {
    "duration": 21,
    "start_time": "2021-06-17T22:35:28.528Z"
   },
   {
    "duration": 30,
    "start_time": "2021-06-17T22:35:28.585Z"
   },
   {
    "duration": 27,
    "start_time": "2021-06-17T22:35:28.622Z"
   },
   {
    "duration": 50,
    "start_time": "2021-06-17T22:35:28.653Z"
   },
   {
    "duration": 11,
    "start_time": "2021-06-17T22:35:28.706Z"
   },
   {
    "duration": 21,
    "start_time": "2021-06-17T22:35:28.720Z"
   },
   {
    "duration": 60,
    "start_time": "2021-06-17T22:35:28.744Z"
   },
   {
    "duration": 23,
    "start_time": "2021-06-17T22:35:28.808Z"
   },
   {
    "duration": 572,
    "start_time": "2021-06-17T22:35:28.835Z"
   },
   {
    "duration": 34,
    "start_time": "2021-06-17T22:35:29.410Z"
   },
   {
    "duration": 8,
    "start_time": "2021-06-17T22:35:29.447Z"
   },
   {
    "duration": 13,
    "start_time": "2021-06-17T22:35:29.485Z"
   },
   {
    "duration": 11,
    "start_time": "2021-06-17T22:35:29.501Z"
   },
   {
    "duration": 1857,
    "start_time": "2021-06-17T22:35:29.514Z"
   },
   {
    "duration": 22,
    "start_time": "2021-06-17T22:35:31.373Z"
   },
   {
    "duration": 25,
    "start_time": "2021-06-17T22:35:31.397Z"
   },
   {
    "duration": 34,
    "start_time": "2021-06-17T22:35:31.425Z"
   },
   {
    "duration": 33,
    "start_time": "2021-06-17T22:35:31.462Z"
   },
   {
    "duration": 588,
    "start_time": "2021-06-17T22:35:31.498Z"
   },
   {
    "duration": 15,
    "start_time": "2021-06-17T22:35:32.089Z"
   },
   {
    "duration": 365,
    "start_time": "2021-06-17T22:35:32.107Z"
   },
   {
    "duration": 13,
    "start_time": "2021-06-17T22:35:32.487Z"
   },
   {
    "duration": 17,
    "start_time": "2021-06-17T22:35:32.504Z"
   },
   {
    "duration": 1021,
    "start_time": "2021-06-17T22:35:32.524Z"
   },
   {
    "duration": 14,
    "start_time": "2021-06-17T22:35:33.548Z"
   },
   {
    "duration": 878,
    "start_time": "2021-06-17T22:35:33.565Z"
   },
   {
    "duration": 23,
    "start_time": "2021-06-17T22:35:34.446Z"
   },
   {
    "duration": 5,
    "start_time": "2021-06-17T22:35:34.487Z"
   },
   {
    "duration": 243,
    "start_time": "2021-06-17T22:35:34.495Z"
   },
   {
    "duration": 21,
    "start_time": "2021-06-17T22:35:34.740Z"
   },
   {
    "duration": 341,
    "start_time": "2021-06-17T22:35:34.764Z"
   },
   {
    "duration": 10,
    "start_time": "2021-06-17T22:35:35.108Z"
   },
   {
    "duration": 326,
    "start_time": "2021-06-17T22:35:35.121Z"
   },
   {
    "duration": 13,
    "start_time": "2021-06-17T22:35:35.450Z"
   },
   {
    "duration": 34,
    "start_time": "2021-06-17T22:35:35.465Z"
   },
   {
    "duration": 19,
    "start_time": "2021-06-17T22:35:35.501Z"
   },
   {
    "duration": 19,
    "start_time": "2021-06-17T22:35:35.523Z"
   },
   {
    "duration": 55,
    "start_time": "2021-06-17T22:35:35.544Z"
   },
   {
    "duration": 28,
    "start_time": "2021-06-17T22:35:35.602Z"
   },
   {
    "duration": 461,
    "start_time": "2021-06-17T22:35:35.632Z"
   },
   {
    "duration": 13,
    "start_time": "2021-06-17T22:35:36.095Z"
   },
   {
    "duration": 24,
    "start_time": "2021-06-17T22:35:36.110Z"
   },
   {
    "duration": 53,
    "start_time": "2021-06-17T22:35:36.136Z"
   },
   {
    "duration": 19,
    "start_time": "2021-06-17T22:35:36.192Z"
   },
   {
    "duration": 18,
    "start_time": "2021-06-17T22:35:36.214Z"
   },
   {
    "duration": 53,
    "start_time": "2021-06-17T22:35:36.235Z"
   },
   {
    "duration": 394,
    "start_time": "2021-06-17T22:35:36.291Z"
   },
   {
    "duration": 15,
    "start_time": "2021-06-17T22:35:36.695Z"
   },
   {
    "duration": 33,
    "start_time": "2021-06-17T22:35:36.713Z"
   },
   {
    "duration": 2031,
    "start_time": "2021-06-17T22:35:36.750Z"
   },
   {
    "duration": 20,
    "start_time": "2021-06-17T22:35:38.786Z"
   },
   {
    "duration": 20,
    "start_time": "2021-06-17T22:35:38.809Z"
   },
   {
    "duration": 15,
    "start_time": "2021-06-17T22:35:38.832Z"
   },
   {
    "duration": 7,
    "start_time": "2021-06-17T22:35:38.887Z"
   },
   {
    "duration": 29,
    "start_time": "2021-06-17T22:35:38.896Z"
   },
   {
    "duration": 20,
    "start_time": "2021-06-17T22:35:38.927Z"
   },
   {
    "duration": 42,
    "start_time": "2021-06-17T22:35:38.950Z"
   },
   {
    "duration": 7,
    "start_time": "2021-06-17T22:35:38.995Z"
   },
   {
    "duration": 17,
    "start_time": "2021-06-17T22:36:18.040Z"
   },
   {
    "duration": 1445,
    "start_time": "2021-06-17T22:36:30.010Z"
   },
   {
    "duration": 52,
    "start_time": "2021-06-17T22:36:31.458Z"
   },
   {
    "duration": 74,
    "start_time": "2021-06-17T22:36:31.513Z"
   },
   {
    "duration": 18,
    "start_time": "2021-06-17T22:36:31.590Z"
   },
   {
    "duration": 25,
    "start_time": "2021-06-17T22:36:31.610Z"
   },
   {
    "duration": 27,
    "start_time": "2021-06-17T22:36:31.637Z"
   },
   {
    "duration": 39,
    "start_time": "2021-06-17T22:36:31.666Z"
   },
   {
    "duration": 23,
    "start_time": "2021-06-17T22:36:31.710Z"
   },
   {
    "duration": 54,
    "start_time": "2021-06-17T22:36:31.737Z"
   },
   {
    "duration": 7,
    "start_time": "2021-06-17T22:36:31.795Z"
   },
   {
    "duration": 39,
    "start_time": "2021-06-17T22:36:31.805Z"
   },
   {
    "duration": 39,
    "start_time": "2021-06-17T22:36:31.846Z"
   },
   {
    "duration": 10,
    "start_time": "2021-06-17T22:36:31.889Z"
   },
   {
    "duration": 19,
    "start_time": "2021-06-17T22:36:31.902Z"
   },
   {
    "duration": 28,
    "start_time": "2021-06-17T22:36:31.923Z"
   },
   {
    "duration": 45,
    "start_time": "2021-06-17T22:36:31.954Z"
   },
   {
    "duration": 18,
    "start_time": "2021-06-17T22:36:32.001Z"
   },
   {
    "duration": 21,
    "start_time": "2021-06-17T22:36:32.022Z"
   },
   {
    "duration": 18,
    "start_time": "2021-06-17T22:36:32.046Z"
   },
   {
    "duration": 20,
    "start_time": "2021-06-17T22:36:32.067Z"
   },
   {
    "duration": 29,
    "start_time": "2021-06-17T22:36:32.090Z"
   },
   {
    "duration": 32,
    "start_time": "2021-06-17T22:36:32.122Z"
   },
   {
    "duration": 29,
    "start_time": "2021-06-17T22:36:32.188Z"
   },
   {
    "duration": 22,
    "start_time": "2021-06-17T22:36:32.223Z"
   },
   {
    "duration": 10,
    "start_time": "2021-06-17T22:36:32.284Z"
   },
   {
    "duration": 33,
    "start_time": "2021-06-17T22:36:32.297Z"
   },
   {
    "duration": 34,
    "start_time": "2021-06-17T22:36:32.332Z"
   },
   {
    "duration": 31,
    "start_time": "2021-06-17T22:36:32.369Z"
   },
   {
    "duration": 590,
    "start_time": "2021-06-17T22:36:32.404Z"
   },
   {
    "duration": 33,
    "start_time": "2021-06-17T22:36:32.997Z"
   },
   {
    "duration": 9,
    "start_time": "2021-06-17T22:36:33.033Z"
   },
   {
    "duration": 50,
    "start_time": "2021-06-17T22:36:33.044Z"
   },
   {
    "duration": 23,
    "start_time": "2021-06-17T22:36:33.097Z"
   },
   {
    "duration": 2102,
    "start_time": "2021-06-17T22:36:33.123Z"
   },
   {
    "duration": 14,
    "start_time": "2021-06-17T22:36:35.227Z"
   },
   {
    "duration": 42,
    "start_time": "2021-06-17T22:36:35.243Z"
   },
   {
    "duration": 25,
    "start_time": "2021-06-17T22:36:35.288Z"
   },
   {
    "duration": 11,
    "start_time": "2021-06-17T22:36:35.315Z"
   },
   {
    "duration": 620,
    "start_time": "2021-06-17T22:36:35.329Z"
   },
   {
    "duration": 12,
    "start_time": "2021-06-17T22:36:35.952Z"
   },
   {
    "duration": 359,
    "start_time": "2021-06-17T22:36:35.966Z"
   },
   {
    "duration": 11,
    "start_time": "2021-06-17T22:36:36.327Z"
   },
   {
    "duration": 20,
    "start_time": "2021-06-17T22:36:36.341Z"
   },
   {
    "duration": 991,
    "start_time": "2021-06-17T22:36:36.363Z"
   },
   {
    "duration": 14,
    "start_time": "2021-06-17T22:36:37.356Z"
   },
   {
    "duration": 866,
    "start_time": "2021-06-17T22:36:37.385Z"
   },
   {
    "duration": 33,
    "start_time": "2021-06-17T22:36:38.254Z"
   },
   {
    "duration": 5,
    "start_time": "2021-06-17T22:36:38.289Z"
   },
   {
    "duration": 287,
    "start_time": "2021-06-17T22:36:38.298Z"
   },
   {
    "duration": 19,
    "start_time": "2021-06-17T22:36:38.588Z"
   },
   {
    "duration": 392,
    "start_time": "2021-06-17T22:36:38.610Z"
   },
   {
    "duration": 12,
    "start_time": "2021-06-17T22:36:39.005Z"
   },
   {
    "duration": 340,
    "start_time": "2021-06-17T22:36:39.020Z"
   },
   {
    "duration": 23,
    "start_time": "2021-06-17T22:36:39.362Z"
   },
   {
    "duration": 18,
    "start_time": "2021-06-17T22:36:39.387Z"
   },
   {
    "duration": 17,
    "start_time": "2021-06-17T22:36:39.408Z"
   },
   {
    "duration": 18,
    "start_time": "2021-06-17T22:36:39.427Z"
   },
   {
    "duration": 17,
    "start_time": "2021-06-17T22:36:39.486Z"
   },
   {
    "duration": 33,
    "start_time": "2021-06-17T22:36:39.505Z"
   },
   {
    "duration": 376,
    "start_time": "2021-06-17T22:36:39.540Z"
   },
   {
    "duration": 12,
    "start_time": "2021-06-17T22:36:39.918Z"
   },
   {
    "duration": 19,
    "start_time": "2021-06-17T22:36:39.933Z"
   },
   {
    "duration": 47,
    "start_time": "2021-06-17T22:36:39.954Z"
   },
   {
    "duration": 27,
    "start_time": "2021-06-17T22:36:40.004Z"
   },
   {
    "duration": 19,
    "start_time": "2021-06-17T22:36:40.034Z"
   },
   {
    "duration": 49,
    "start_time": "2021-06-17T22:36:40.056Z"
   },
   {
    "duration": 375,
    "start_time": "2021-06-17T22:36:40.108Z"
   },
   {
    "duration": 12,
    "start_time": "2021-06-17T22:36:40.490Z"
   },
   {
    "duration": 26,
    "start_time": "2021-06-17T22:36:40.505Z"
   },
   {
    "duration": 2125,
    "start_time": "2021-06-17T22:36:40.533Z"
   },
   {
    "duration": 29,
    "start_time": "2021-06-17T22:36:42.661Z"
   },
   {
    "duration": 15,
    "start_time": "2021-06-17T22:36:42.693Z"
   },
   {
    "duration": 8,
    "start_time": "2021-06-17T22:36:42.711Z"
   },
   {
    "duration": 6,
    "start_time": "2021-06-17T22:36:42.722Z"
   },
   {
    "duration": 59,
    "start_time": "2021-06-17T22:36:42.730Z"
   },
   {
    "duration": 18,
    "start_time": "2021-06-17T22:36:42.791Z"
   },
   {
    "duration": 7,
    "start_time": "2021-06-17T22:36:42.811Z"
   },
   {
    "duration": 7,
    "start_time": "2021-06-17T22:36:42.821Z"
   }
  ],
  "kernelspec": {
   "display_name": "Python 3",
   "language": "python",
   "name": "python3"
  },
  "language_info": {
   "codemirror_mode": {
    "name": "ipython",
    "version": 3
   },
   "file_extension": ".py",
   "mimetype": "text/x-python",
   "name": "python",
   "nbconvert_exporter": "python",
   "pygments_lexer": "ipython3",
   "version": "3.8.5"
  },
  "toc": {
   "base_numbering": 1,
   "nav_menu": {},
   "number_sections": true,
   "sideBar": true,
   "skip_h1_title": true,
   "title_cell": "Table of Contents",
   "title_sidebar": "Contents",
   "toc_cell": false,
   "toc_position": {},
   "toc_section_display": true,
   "toc_window_display": false
  }
 },
 "nbformat": 4,
 "nbformat_minor": 2
}
